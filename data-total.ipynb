{
 "cells": [
  {
   "cell_type": "code",
   "execution_count": null,
   "id": "956c8417",
   "metadata": {},
   "outputs": [],
   "source": [
    "import pandas as pd\n",
    "import matplotlib.pyplot as plt"
   ]
  },
  {
   "cell_type": "markdown",
   "id": "bef3b393",
   "metadata": {},
   "source": [
    "## Armado del dataset"
   ]
  },
  {
   "cell_type": "markdown",
   "id": "16650853",
   "metadata": {},
   "source": [
    "#### Votos validos"
   ]
  },
  {
   "cell_type": "code",
   "execution_count": null,
   "id": "f08e7229",
   "metadata": {},
   "outputs": [],
   "source": [
    "df = pd.read_csv('ResultadosElectorales_2023.csv')"
   ]
  },
  {
   "cell_type": "code",
   "execution_count": null,
   "id": "31f131c1",
   "metadata": {},
   "outputs": [],
   "source": [
    "df.columns"
   ]
  },
  {
   "cell_type": "code",
   "execution_count": null,
   "id": "677ed9cd",
   "metadata": {},
   "outputs": [],
   "source": [
    "bs_as = df[df['distrito_nombre']=='Buenos Aires']"
   ]
  },
  {
   "cell_type": "code",
   "execution_count": null,
   "id": "45d07d63",
   "metadata": {},
   "outputs": [],
   "source": [
    "lomas = bs_as[bs_as['seccion_nombre'] == 'Lomas de Zamora']"
   ]
  },
  {
   "cell_type": "code",
   "execution_count": null,
   "id": "5581b890",
   "metadata": {},
   "outputs": [],
   "source": [
    "intendente = lomas[lomas['cargo_nombre'] == 'INTENDENTE']"
   ]
  },
  {
   "cell_type": "code",
   "execution_count": null,
   "id": "7783d445",
   "metadata": {},
   "outputs": [],
   "source": [
    "intendente.head()"
   ]
  },
  {
   "cell_type": "code",
   "execution_count": null,
   "id": "e35fabe0",
   "metadata": {},
   "outputs": [],
   "source": [
    "intendente.to_csv('intendente_lomas.csv', index=False)"
   ]
  },
  {
   "cell_type": "code",
   "execution_count": null,
   "id": "2e8cd071",
   "metadata": {},
   "outputs": [],
   "source": []
  }
 ],
 "metadata": {
  "kernelspec": {
   "display_name": "Python 3 (ipykernel)",
   "language": "python",
   "name": "python3"
  },
  "language_info": {
   "codemirror_mode": {
    "name": "ipython",
    "version": 3
   },
   "file_extension": ".py",
   "mimetype": "text/x-python",
   "name": "python",
   "nbconvert_exporter": "python",
   "pygments_lexer": "ipython3",
   "version": "3.9.15"
  }
 },
 "nbformat": 4,
 "nbformat_minor": 5
}

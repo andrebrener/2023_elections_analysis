{
 "cells": [
  {
   "cell_type": "code",
   "execution_count": null,
   "id": "956c8417",
   "metadata": {},
   "outputs": [],
   "source": [
    "import pandas as pd\n",
    "import matplotlib.pyplot as plt"
   ]
  },
  {
   "cell_type": "code",
   "execution_count": null,
   "id": "c973436c",
   "metadata": {},
   "outputs": [],
   "source": [
    "partidos_a_mostrar = ['UNION POR LA PATRIA', 'JUNTOS POR EL CAMBIO', 'LA LIBERTAD AVANZA']"
   ]
  },
  {
   "cell_type": "markdown",
   "id": "bef3b393",
   "metadata": {},
   "source": [
    "## Armado del dataset"
   ]
  },
  {
   "cell_type": "markdown",
   "id": "16650853",
   "metadata": {},
   "source": [
    "#### Votos validos"
   ]
  },
  {
   "cell_type": "code",
   "execution_count": null,
   "id": "f08e7229",
   "metadata": {},
   "outputs": [],
   "source": [
    "df = pd.read_csv('presidente_afirmativos.csv')"
   ]
  },
  {
   "cell_type": "code",
   "execution_count": null,
   "id": "49ae92c5",
   "metadata": {},
   "outputs": [],
   "source": [
    "df.shape"
   ]
  },
  {
   "cell_type": "markdown",
   "id": "457d4522",
   "metadata": {},
   "source": [
    "#### Mesas"
   ]
  },
  {
   "cell_type": "code",
   "execution_count": null,
   "id": "fa1e2d3a",
   "metadata": {},
   "outputs": [],
   "source": [
    "total_data_mesas = pd.read_csv('total_data_mesas.csv')"
   ]
  },
  {
   "cell_type": "code",
   "execution_count": null,
   "id": "5dbd7fcf",
   "metadata": {},
   "outputs": [],
   "source": [
    "total_data_mesas.shape"
   ]
  },
  {
   "cell_type": "code",
   "execution_count": null,
   "id": "b2109076",
   "metadata": {},
   "outputs": [],
   "source": []
  },
  {
   "cell_type": "markdown",
   "id": "53ea08b6",
   "metadata": {},
   "source": [
    "## Distribucion de mesas por % sacado"
   ]
  },
  {
   "cell_type": "code",
   "execution_count": null,
   "id": "bebc1e23",
   "metadata": {
    "scrolled": true
   },
   "outputs": [],
   "source": [
    "for a, a_df in df.groupby('agrupacion_nombre'):\n",
    "    fig = plt.figure(figsize=(10, 5))\n",
    "    plt.title(a)\n",
    "    a_df['percentage'].hist(bins=100)"
   ]
  },
  {
   "cell_type": "markdown",
   "id": "e4d8f535",
   "metadata": {},
   "source": [
    "## Mesas con % de votos de un partido"
   ]
  },
  {
   "cell_type": "markdown",
   "id": "ce2116cf",
   "metadata": {},
   "source": [
    "Defino el porcentaje votos de un partido para comparar"
   ]
  },
  {
   "cell_type": "code",
   "execution_count": null,
   "id": "a59e226b",
   "metadata": {},
   "outputs": [],
   "source": [
    "set_percentage = 0.8"
   ]
  },
  {
   "cell_type": "code",
   "execution_count": null,
   "id": "b6961112",
   "metadata": {},
   "outputs": [],
   "source": [
    "mesas_percentage = total_data_mesas[total_data_mesas['percentage'] >= set_percentage]"
   ]
  },
  {
   "cell_type": "markdown",
   "id": "00c746e5",
   "metadata": {},
   "source": [
    "#### Cantidad de mesas por agrupacion"
   ]
  },
  {
   "cell_type": "code",
   "execution_count": null,
   "id": "0a19045f",
   "metadata": {},
   "outputs": [],
   "source": [
    "mesas_percentage['agrupacion_ganadora'].value_counts()"
   ]
  },
  {
   "cell_type": "markdown",
   "id": "8f2d952d",
   "metadata": {},
   "source": [
    "#### Cantidad de mesas por agrupacion y location"
   ]
  },
  {
   "cell_type": "code",
   "execution_count": null,
   "id": "11b99184",
   "metadata": {},
   "outputs": [],
   "source": [
    "mesas_percentage[['agrupacion_ganadora', 'distrito_nombre', 'votos_cantidad']].groupby(\n",
    "    ['agrupacion_ganadora', 'distrito_nombre']).count().sort_values(\n",
    "    ['agrupacion_ganadora', 'votos_cantidad'], ascending=False)"
   ]
  },
  {
   "cell_type": "code",
   "execution_count": null,
   "id": "a9e8888d",
   "metadata": {},
   "outputs": [],
   "source": [
    "mesas_percentage[['agrupacion_ganadora', 'distrito_nombre', 'seccion_nombre', 'votos_cantidad']].groupby(\n",
    "    ['agrupacion_ganadora', 'distrito_nombre', 'seccion_nombre']).count().sort_values(\n",
    "    ['agrupacion_ganadora', 'votos_cantidad'], ascending=False)"
   ]
  },
  {
   "cell_type": "markdown",
   "id": "77c8a935",
   "metadata": {},
   "source": [
    "#### Cantidad de votos por agrupacion"
   ]
  },
  {
   "cell_type": "code",
   "execution_count": null,
   "id": "77b9ecda",
   "metadata": {},
   "outputs": [],
   "source": [
    "grp_mesas_percentage = mesas_percentage[['agrupacion_ganadora', 'votos_cantidad']].groupby(\n",
    "    'agrupacion_ganadora').sum().sort_values('votos_cantidad', ascending=False)"
   ]
  },
  {
   "cell_type": "code",
   "execution_count": null,
   "id": "a5e21ccc",
   "metadata": {},
   "outputs": [],
   "source": [
    "grp_mesas_percentage"
   ]
  },
  {
   "cell_type": "code",
   "execution_count": null,
   "id": "9aca135c",
   "metadata": {},
   "outputs": [],
   "source": [
    "plt.figure(figsize=(10, 5))\n",
    "plt.bar(grp_mesas_percentage.index, grp_mesas_percentage['votos_cantidad'])\n",
    "plt.ylabel(\"Cantidad de votos\")\n",
    "plt.title(f\"Votos obtenido en mesas en donde el partido ganó con más del {int(set_percentage * 100)}%\")"
   ]
  },
  {
   "cell_type": "code",
   "execution_count": null,
   "id": "2539caa0",
   "metadata": {},
   "outputs": [],
   "source": [
    "location_mesas_percentage = mesas_percentage[mesas_percentage[\n",
    "    'agrupacion_ganadora'] == 'UNION POR LA PATRIA'][\n",
    "    ['distrito_nombre', 'votos_cantidad']].groupby('distrito_nombre').sum().sort_values(\n",
    "    'votos_cantidad', ascending=False)"
   ]
  },
  {
   "cell_type": "code",
   "execution_count": null,
   "id": "3acfa6b8",
   "metadata": {},
   "outputs": [],
   "source": [
    "location_mesas_percentage['percentage'] = location_mesas_percentage[\n",
    "    'votos_cantidad'] / location_mesas_percentage['votos_cantidad'].sum()"
   ]
  },
  {
   "cell_type": "code",
   "execution_count": null,
   "id": "4570cedd",
   "metadata": {},
   "outputs": [],
   "source": [
    "location_mesas_percentage"
   ]
  },
  {
   "cell_type": "code",
   "execution_count": null,
   "id": "5264b384",
   "metadata": {},
   "outputs": [],
   "source": [
    "location_mesas_percentage"
   ]
  },
  {
   "cell_type": "markdown",
   "id": "58e17ef5",
   "metadata": {},
   "source": [
    "#### Cantidad de mesas por agrupacion y distrito"
   ]
  },
  {
   "cell_type": "code",
   "execution_count": null,
   "id": "23b78c02",
   "metadata": {},
   "outputs": [],
   "source": [
    "mesas_percentage[['agrupacion_ganadora', 'distrito_nombre', 'votos_cantidad']].groupby(\n",
    "    ['agrupacion_ganadora', 'distrito_nombre']).sum().sort_values(\n",
    "    ['agrupacion_ganadora', 'votos_cantidad'], ascending=False)"
   ]
  },
  {
   "cell_type": "markdown",
   "id": "0d2d756d",
   "metadata": {},
   "source": [
    "## Porcentaje de victoria"
   ]
  },
  {
   "cell_type": "markdown",
   "id": "55674d2a",
   "metadata": {},
   "source": [
    "#### Total"
   ]
  },
  {
   "cell_type": "code",
   "execution_count": null,
   "id": "b561fa37",
   "metadata": {},
   "outputs": [],
   "source": [
    "percentage_dfs = []"
   ]
  },
  {
   "cell_type": "code",
   "execution_count": null,
   "id": "f3756e47",
   "metadata": {},
   "outputs": [],
   "source": [
    "for p, p_df in total_data_mesas.groupby('agrupacion_ganadora'):\n",
    "    temp_df = p_df['percentage'].describe().to_frame()\n",
    "    temp_df.columns = [p]\n",
    "    percentage_dfs.append(temp_df.T)"
   ]
  },
  {
   "cell_type": "code",
   "execution_count": null,
   "id": "2c026c3e",
   "metadata": {},
   "outputs": [],
   "source": [
    "pd.concat(percentage_dfs)"
   ]
  },
  {
   "cell_type": "markdown",
   "id": "5c328ab3",
   "metadata": {},
   "source": [
    "## Votos no validos"
   ]
  },
  {
   "cell_type": "markdown",
   "id": "9f4b5777",
   "metadata": {},
   "source": [
    "#### % de mesas sin invalidos por agrupacion ganadora"
   ]
  },
  {
   "cell_type": "code",
   "execution_count": null,
   "id": "c37d6b4a",
   "metadata": {},
   "outputs": [],
   "source": [
    "zero_invalidos = total_data_mesas[total_data_mesas['total_invalidos'] == 0].copy()"
   ]
  },
  {
   "cell_type": "code",
   "execution_count": null,
   "id": "2945e26e",
   "metadata": {},
   "outputs": [],
   "source": [
    "agrupacion_grp_sin = zero_invalidos['agrupacion_ganadora'].value_counts().to_frame().reset_index()"
   ]
  },
  {
   "cell_type": "code",
   "execution_count": null,
   "id": "0ab494a0",
   "metadata": {},
   "outputs": [],
   "source": [
    "agrupacion_grp_sin.columns = ['agrupacion_ganadora', 'sin_invalidos']"
   ]
  },
  {
   "cell_type": "code",
   "execution_count": null,
   "id": "d0f79bf0",
   "metadata": {},
   "outputs": [],
   "source": [
    "agrupacion_grp_total = total_data_mesas['agrupacion_ganadora'].value_counts().to_frame().reset_index()"
   ]
  },
  {
   "cell_type": "code",
   "execution_count": null,
   "id": "4533b71d",
   "metadata": {},
   "outputs": [],
   "source": [
    "agrupacion_grp_total.columns = ['agrupacion_ganadora', 'total']"
   ]
  },
  {
   "cell_type": "code",
   "execution_count": null,
   "id": "79a92846",
   "metadata": {},
   "outputs": [],
   "source": [
    "agrupaciones_ganadoras_invalidos = pd.merge(agrupacion_grp_sin, agrupacion_grp_total)"
   ]
  },
  {
   "cell_type": "code",
   "execution_count": null,
   "id": "081400a5",
   "metadata": {},
   "outputs": [],
   "source": [
    "agrupaciones_ganadoras_invalidos['percentage'] = agrupaciones_ganadoras_invalidos[\n",
    "    'sin_invalidos'] / agrupaciones_ganadoras_invalidos['total']"
   ]
  },
  {
   "cell_type": "code",
   "execution_count": null,
   "id": "027d863d",
   "metadata": {},
   "outputs": [],
   "source": [
    "agrupaciones_ganadoras_invalidos.columns = [\n",
    "    'agrupacion_ganadora', 'mesas_sin_invalidos', 'total_mesas_ganadas', 'percentage']"
   ]
  },
  {
   "cell_type": "code",
   "execution_count": null,
   "id": "580a59dc",
   "metadata": {},
   "outputs": [],
   "source": [
    "agrupaciones_ganadoras_invalidos[\n",
    "    agrupaciones_ganadoras_invalidos['agrupacion_ganadora'].isin(partidos_a_mostrar)\n",
    "].sort_values('percentage', ascending=False)"
   ]
  },
  {
   "cell_type": "markdown",
   "id": "e6c8fa80",
   "metadata": {},
   "source": [
    "#### Invalidos por location"
   ]
  },
  {
   "cell_type": "code",
   "execution_count": null,
   "id": "2db37735",
   "metadata": {},
   "outputs": [],
   "source": [
    "zero_invalidos.head()"
   ]
  },
  {
   "cell_type": "code",
   "execution_count": null,
   "id": "72f0cea1",
   "metadata": {},
   "outputs": [],
   "source": []
  },
  {
   "cell_type": "code",
   "execution_count": null,
   "id": "0941844f",
   "metadata": {},
   "outputs": [],
   "source": [
    "distritos_invalidos = zero_invalidos[zero_invalidos['agrupacion_ganadora'] == 'UNION POR LA PATRIA'][\n",
    "    ['agrupacion_ganadora', 'distrito_nombre', 'votos_cantidad']].groupby(\n",
    "    ['agrupacion_ganadora', 'distrito_nombre']).sum().sort_values(\n",
    "    ['agrupacion_ganadora', 'votos_cantidad'], ascending=False)"
   ]
  },
  {
   "cell_type": "code",
   "execution_count": null,
   "id": "03bf6215",
   "metadata": {},
   "outputs": [],
   "source": [
    "distritos_invalidos['percentage'] = 100 * distritos_invalidos[\n",
    "    'votos_cantidad'] / distritos_invalidos['votos_cantidad'].sum()"
   ]
  },
  {
   "cell_type": "code",
   "execution_count": null,
   "id": "eb5fb726",
   "metadata": {},
   "outputs": [],
   "source": [
    "distritos_invalidos"
   ]
  },
  {
   "cell_type": "code",
   "execution_count": null,
   "id": "9114168e",
   "metadata": {},
   "outputs": [],
   "source": [
    "secciones_invalidos = zero_invalidos[zero_invalidos['agrupacion_ganadora'] == 'UNION POR LA PATRIA'][\n",
    "    ['agrupacion_ganadora', 'distrito_nombre', 'seccion_nombre', 'votos_cantidad']].groupby(\n",
    "    ['agrupacion_ganadora', 'distrito_nombre', 'seccion_nombre']).sum().sort_values(\n",
    "    ['agrupacion_ganadora', 'votos_cantidad'], ascending=False)"
   ]
  },
  {
   "cell_type": "code",
   "execution_count": null,
   "id": "67810547",
   "metadata": {},
   "outputs": [],
   "source": [
    "secciones_invalidos['percentage'] =  secciones_invalidos[\n",
    "    'votos_cantidad'] / secciones_invalidos['votos_cantidad'].sum()"
   ]
  },
  {
   "cell_type": "code",
   "execution_count": null,
   "id": "ed753622",
   "metadata": {},
   "outputs": [],
   "source": [
    "secciones_invalidos"
   ]
  },
  {
   "cell_type": "markdown",
   "id": "7810b306",
   "metadata": {},
   "source": [
    "#### Mesas ganadores con mas invalidos por agrupacion"
   ]
  },
  {
   "cell_type": "code",
   "execution_count": null,
   "id": "5c71bd9e",
   "metadata": {},
   "outputs": [],
   "source": [
    "dfs = []"
   ]
  },
  {
   "cell_type": "code",
   "execution_count": null,
   "id": "8418cd91",
   "metadata": {},
   "outputs": [],
   "source": [
    "for p, p_df in total_data_mesas.groupby('agrupacion_ganadora'):\n",
    "    temp_df = p_df['invalidos_percentage'].describe().to_frame()\n",
    "    temp_df.columns = [p]\n",
    "    dfs.append(temp_df.T)"
   ]
  },
  {
   "cell_type": "code",
   "execution_count": null,
   "id": "d2bb94cc",
   "metadata": {},
   "outputs": [],
   "source": [
    "inv_dist_df = pd.concat(dfs)"
   ]
  },
  {
   "cell_type": "code",
   "execution_count": null,
   "id": "efbcc31c",
   "metadata": {},
   "outputs": [],
   "source": [
    "inv_dist_df"
   ]
  },
  {
   "cell_type": "code",
   "execution_count": null,
   "id": "134d9fb0",
   "metadata": {},
   "outputs": [],
   "source": [
    "agrupaciones_ganadoras_invalidos.sort_values('percentage', ascending=False)"
   ]
  },
  {
   "cell_type": "code",
   "execution_count": null,
   "id": "b05ac240",
   "metadata": {
    "scrolled": true
   },
   "outputs": [],
   "source": [
    "for v in ['mean', '25%', '50%', '75%', 'max']:\n",
    "    fig = plt.figure(figsize=(15, 5))\n",
    "    plt.title(v)\n",
    "    plot_df = inv_dist_df.sort_values(v)\n",
    "    x_values = plot_df.index\n",
    "    plt.bar(x_values, plot_df[v])"
   ]
  },
  {
   "cell_type": "markdown",
   "id": "536bf41c",
   "metadata": {},
   "source": [
    "## Votos en blanco"
   ]
  },
  {
   "cell_type": "markdown",
   "id": "e2f6a908",
   "metadata": {},
   "source": [
    "#### Votos en blanco por mesa por agrupacion ganadora"
   ]
  },
  {
   "cell_type": "code",
   "execution_count": null,
   "id": "5c025295",
   "metadata": {},
   "outputs": [],
   "source": [
    "blancos_por_mesa_ganadora = total_data_mesas[\n",
    "    ['agrupacion_ganadora', 'EN BLANCO']].groupby('agrupacion_ganadora').agg(['count', 'sum'])"
   ]
  },
  {
   "cell_type": "code",
   "execution_count": null,
   "id": "2f867848",
   "metadata": {},
   "outputs": [],
   "source": [
    "blancos_por_mesa_ganadora"
   ]
  },
  {
   "cell_type": "code",
   "execution_count": null,
   "id": "10fd0167",
   "metadata": {},
   "outputs": [],
   "source": [
    "blancos_por_mesa_ganadora['blancos_por_mesa'] = blancos_por_mesa_ganadora['EN BLANCO'][\n",
    "    'sum'] / blancos_por_mesa_ganadora['EN BLANCO']['count']"
   ]
  },
  {
   "cell_type": "code",
   "execution_count": null,
   "id": "37a88534",
   "metadata": {},
   "outputs": [],
   "source": [
    "blancos_por_mesa_ganadora.columns = blancos_por_mesa_ganadora.columns.get_level_values(0)"
   ]
  },
  {
   "cell_type": "code",
   "execution_count": null,
   "id": "86675fcc",
   "metadata": {},
   "outputs": [],
   "source": [
    "blancos_por_mesa_ganadora.columns = ['total_mesas_ganadas', 'votos_blanco_en_mesas_ganadas', 'blancos_por_mesa']"
   ]
  },
  {
   "cell_type": "code",
   "execution_count": null,
   "id": "a27b0e0a",
   "metadata": {},
   "outputs": [],
   "source": [
    "blancos_por_mesa_ganadora[\n",
    "    blancos_por_mesa_ganadora.index.isin(partidos_a_mostrar)].sort_values('blancos_por_mesa', ascending=False)"
   ]
  },
  {
   "cell_type": "markdown",
   "id": "b19ca81c",
   "metadata": {},
   "source": [
    "#### Mesas con y sin votos en blanco"
   ]
  },
  {
   "cell_type": "code",
   "execution_count": null,
   "id": "cb8a5195",
   "metadata": {},
   "outputs": [],
   "source": [
    "con_votos_en_blanco = total_data_mesas[total_data_mesas['EN BLANCO'] > 0].copy()"
   ]
  },
  {
   "cell_type": "code",
   "execution_count": null,
   "id": "19c34707",
   "metadata": {},
   "outputs": [],
   "source": [
    "con_votos_en_blanco['agrupacion_ganadora'].value_counts()"
   ]
  },
  {
   "cell_type": "code",
   "execution_count": null,
   "id": "768ed992",
   "metadata": {},
   "outputs": [],
   "source": [
    "agrupacion_grp_con_votos_en_blanco = con_votos_en_blanco[\n",
    "    'agrupacion_ganadora'].value_counts().to_frame().reset_index()"
   ]
  },
  {
   "cell_type": "code",
   "execution_count": null,
   "id": "17398f86",
   "metadata": {},
   "outputs": [],
   "source": [
    "agrupacion_grp_con_votos_en_blanco.columns = ['agrupacion_ganadora', 'con_blancos']"
   ]
  },
  {
   "cell_type": "code",
   "execution_count": null,
   "id": "5ef8f2a5",
   "metadata": {},
   "outputs": [],
   "source": [
    "agrupaciones_ganadoras_blancos = pd.merge(agrupacion_grp_con_votos_en_blanco, agrupacion_grp_total)"
   ]
  },
  {
   "cell_type": "code",
   "execution_count": null,
   "id": "a29c9bfc",
   "metadata": {},
   "outputs": [],
   "source": [
    "agrupaciones_ganadoras_blancos"
   ]
  },
  {
   "cell_type": "code",
   "execution_count": null,
   "id": "47acc78e",
   "metadata": {},
   "outputs": [],
   "source": [
    "agrupaciones_ganadoras_blancos['percentage'] = agrupaciones_ganadoras_blancos[\n",
    "    'con_blancos'] / agrupaciones_ganadoras_blancos['total']"
   ]
  },
  {
   "cell_type": "code",
   "execution_count": null,
   "id": "5c175b31",
   "metadata": {},
   "outputs": [],
   "source": [
    "agrupaciones_ganadoras_blancos.sort_values('percentage', ascending=False)"
   ]
  },
  {
   "cell_type": "markdown",
   "id": "75ad844f",
   "metadata": {},
   "source": [
    "#### Blancos por location"
   ]
  },
  {
   "cell_type": "code",
   "execution_count": null,
   "id": "f3de9dea",
   "metadata": {},
   "outputs": [],
   "source": [
    "distritos_blancos = total_data_mesas[total_data_mesas['agrupacion_ganadora'] == 'UNION POR LA PATRIA'][\n",
    "    ['agrupacion_ganadora', 'distrito_nombre', 'EN BLANCO']].groupby(\n",
    "    ['agrupacion_ganadora', 'distrito_nombre']).sum().sort_values(\n",
    "    ['agrupacion_ganadora', 'EN BLANCO'], ascending=False)"
   ]
  },
  {
   "cell_type": "code",
   "execution_count": null,
   "id": "6eecb117",
   "metadata": {},
   "outputs": [],
   "source": [
    "distritos_blancos['percentage'] =  distritos_blancos[\n",
    "    'EN BLANCO'] / distritos_blancos['EN BLANCO'].sum()"
   ]
  },
  {
   "cell_type": "code",
   "execution_count": null,
   "id": "5cf21e84",
   "metadata": {},
   "outputs": [],
   "source": [
    "distritos_blancos.head()"
   ]
  },
  {
   "cell_type": "code",
   "execution_count": null,
   "id": "358daf97",
   "metadata": {},
   "outputs": [],
   "source": [
    "total_data_mesas[['agrupacion_ganadora', 'distrito_nombre', 'seccion_nombre', 'EN BLANCO']].groupby(\n",
    "    ['agrupacion_ganadora', 'distrito_nombre', 'seccion_nombre']).sum().sort_values(\n",
    "    ['agrupacion_ganadora', 'EN BLANCO'], ascending=False)"
   ]
  },
  {
   "cell_type": "markdown",
   "id": "40502923",
   "metadata": {},
   "source": [
    "## Mesas con un minimo de votos"
   ]
  },
  {
   "cell_type": "markdown",
   "id": "340018a1",
   "metadata": {},
   "source": [
    "Defino la cantidad minima de votos para el analisis"
   ]
  },
  {
   "cell_type": "code",
   "execution_count": null,
   "id": "f8bc78ca",
   "metadata": {},
   "outputs": [],
   "source": [
    "min_votos = 10"
   ]
  },
  {
   "cell_type": "code",
   "execution_count": null,
   "id": "dbd91cc6",
   "metadata": {},
   "outputs": [],
   "source": [
    "mesas_min_votos = df[(df['votos_cantidad'] <= min_votos) & (df['agrupacion_nombre'].isin(partidos_a_mostrar))]"
   ]
  },
  {
   "cell_type": "markdown",
   "id": "bcb1d003",
   "metadata": {},
   "source": [
    "#### Total por agrupacion"
   ]
  },
  {
   "cell_type": "code",
   "execution_count": null,
   "id": "79156520",
   "metadata": {},
   "outputs": [],
   "source": [
    "mesas_min_votos['agrupacion_nombre'].value_counts()"
   ]
  },
  {
   "cell_type": "code",
   "execution_count": null,
   "id": "89011f66",
   "metadata": {},
   "outputs": [],
   "source": [
    "agrupacion_grp_con_votos_en_blanco"
   ]
  },
  {
   "cell_type": "code",
   "execution_count": null,
   "id": "6ec4658f",
   "metadata": {},
   "outputs": [],
   "source": [
    "agrupacion_grp_total"
   ]
  },
  {
   "cell_type": "markdown",
   "id": "413d5a72",
   "metadata": {},
   "source": [
    "#### Por agrupacion y distrito"
   ]
  },
  {
   "cell_type": "code",
   "execution_count": null,
   "id": "8e4f9c74",
   "metadata": {},
   "outputs": [],
   "source": [
    "mesas_min_votos[\n",
    "    ['distrito_nombre', 'agrupacion_nombre', 'mesa_id']].groupby(\n",
    "    ['agrupacion_nombre', 'distrito_nombre']).count()"
   ]
  },
  {
   "cell_type": "markdown",
   "id": "18c47046",
   "metadata": {},
   "source": [
    "#### En un partido especifico"
   ]
  },
  {
   "cell_type": "code",
   "execution_count": null,
   "id": "8d615a6c",
   "metadata": {},
   "outputs": [],
   "source": [
    "partido = 'LA LIBERTAD AVANZA'\n",
    "# partido = 'UNION POR LA PATRIA'"
   ]
  },
  {
   "cell_type": "code",
   "execution_count": null,
   "id": "baa9d231",
   "metadata": {},
   "outputs": [],
   "source": [
    "con_votos_en_blanco.head()"
   ]
  },
  {
   "cell_type": "code",
   "execution_count": null,
   "id": "98e4d55d",
   "metadata": {},
   "outputs": [],
   "source": [
    "total_data_mesas['agrupacion_ganadora'].value_counts()"
   ]
  },
  {
   "cell_type": "code",
   "execution_count": null,
   "id": "2f20a0cd",
   "metadata": {},
   "outputs": [],
   "source": [
    "partido_mesas_min_votos = mesas_min_votos[mesas_min_votos['agrupacion_nombre'] == partido]"
   ]
  },
  {
   "cell_type": "code",
   "execution_count": null,
   "id": "77126a9c",
   "metadata": {},
   "outputs": [],
   "source": [
    "agrupaciones = ['JUNTOS POR EL CAMBIO', 'LA LIBERTAD AVANZA', 'UNION POR LA PATRIA']"
   ]
  },
  {
   "cell_type": "code",
   "execution_count": null,
   "id": "5e27120f",
   "metadata": {},
   "outputs": [],
   "source": [
    "# partido_a_comparar = 'LA LIBERTAD AVANZA'\n",
    "partido_a_comparar = 'UNION POR LA PATRIA'"
   ]
  },
  {
   "cell_type": "code",
   "execution_count": null,
   "id": "1aa3b4db",
   "metadata": {},
   "outputs": [],
   "source": [
    "comparacion_df = df[df['agrupacion_nombre'] == partido_a_comparar]"
   ]
  },
  {
   "cell_type": "code",
   "execution_count": null,
   "id": "08c9b946",
   "metadata": {},
   "outputs": [],
   "source": [
    "comparacion_partido = pd.merge(comparacion_df, partido_mesas_min_votos[\n",
    "    ['distrito_nombre', 'seccionprovincial_nombre', 'seccion_nombre',\n",
    "       'circuito_nombre', 'mesa_id']])"
   ]
  },
  {
   "cell_type": "markdown",
   "id": "c04a89e2",
   "metadata": {},
   "source": [
    "#### Distribucion por location"
   ]
  },
  {
   "cell_type": "code",
   "execution_count": null,
   "id": "bede65b8",
   "metadata": {},
   "outputs": [],
   "source": [
    "comparacion_partido[['distrito_nombre', 'seccion_nombre', 'mesa_id']].groupby(\n",
    "    ['distrito_nombre', 'seccion_nombre']).count().sort_values(\n",
    "    ['mesa_id'], ascending=False).head()"
   ]
  },
  {
   "cell_type": "markdown",
   "id": "1e037366",
   "metadata": {},
   "source": [
    "#### Cantidad de votos en otro partido"
   ]
  },
  {
   "cell_type": "code",
   "execution_count": null,
   "id": "34c60920",
   "metadata": {},
   "outputs": [],
   "source": [
    "comparacion_partido['votos_cantidad'].sum()"
   ]
  },
  {
   "cell_type": "code",
   "execution_count": null,
   "id": "ba1040ed",
   "metadata": {},
   "outputs": [],
   "source": [
    "100 * comparacion_partido['votos_cantidad'].sum() / df[\n",
    "    df['agrupacion_nombre'] == partido_a_comparar]['votos_cantidad'].sum()"
   ]
  },
  {
   "cell_type": "code",
   "execution_count": null,
   "id": "ce9af8e1",
   "metadata": {},
   "outputs": [],
   "source": [
    "location_comparacion_partido = comparacion_partido[['distrito_nombre', 'votos_cantidad']].groupby(\n",
    "    ['distrito_nombre']).sum().sort_values(\n",
    "    ['votos_cantidad'], ascending=False)"
   ]
  },
  {
   "cell_type": "code",
   "execution_count": null,
   "id": "1ddf44d8",
   "metadata": {},
   "outputs": [],
   "source": [
    "location_comparacion_partido['percentage'] = location_comparacion_partido[\n",
    "    'votos_cantidad'] / location_comparacion_partido['votos_cantidad'].sum()"
   ]
  },
  {
   "cell_type": "code",
   "execution_count": null,
   "id": "a06fb632",
   "metadata": {},
   "outputs": [],
   "source": [
    "location_comparacion_partido"
   ]
  },
  {
   "cell_type": "code",
   "execution_count": null,
   "id": "345018cd",
   "metadata": {},
   "outputs": [],
   "source": [
    "comparacion_partido[['distrito_nombre', 'seccion_nombre', 'votos_cantidad']].groupby(\n",
    "    ['distrito_nombre', 'seccion_nombre']).sum().sort_values(\n",
    "    ['votos_cantidad'], ascending=False).head(20)"
   ]
  },
  {
   "cell_type": "markdown",
   "id": "05025568",
   "metadata": {},
   "source": [
    "## Votos de todos los cargos"
   ]
  },
  {
   "cell_type": "code",
   "execution_count": null,
   "id": "e3fbffda",
   "metadata": {},
   "outputs": [],
   "source": [
    "total_votos_df = pd.read_csv('total_votos.csv')"
   ]
  },
  {
   "cell_type": "code",
   "execution_count": null,
   "id": "0798e8e8",
   "metadata": {},
   "outputs": [],
   "source": [
    "total_votos_df['percentage'] = total_votos_df['votos_cantidad'] / total_votos_df['votos_totales_mesa']"
   ]
  },
  {
   "cell_type": "code",
   "execution_count": null,
   "id": "08c742c9",
   "metadata": {},
   "outputs": [],
   "source": [
    "votos_totales_partido = total_votos_df[\n",
    "    ['agrupacion_nombre', 'votos_cantidad']].groupby('agrupacion_nombre').sum().reset_index()"
   ]
  },
  {
   "cell_type": "code",
   "execution_count": null,
   "id": "8eaecf0e",
   "metadata": {},
   "outputs": [],
   "source": [
    "votos_totales_partido.rename(columns = {'votos_cantidad': 'votos_totales_partido'}, inplace=True)"
   ]
  },
  {
   "cell_type": "code",
   "execution_count": null,
   "id": "8ce49e20",
   "metadata": {},
   "outputs": [],
   "source": [
    "percentage_votos_totales = total_votos_df[total_votos_df['percentage'] >= set_percentage]"
   ]
  },
  {
   "cell_type": "code",
   "execution_count": null,
   "id": "ed68242a",
   "metadata": {},
   "outputs": [],
   "source": [
    "percentage_votos_totales.head()"
   ]
  },
  {
   "cell_type": "code",
   "execution_count": null,
   "id": "c1077484",
   "metadata": {},
   "outputs": [],
   "source": [
    "presidente_perc_votos_totales = pd.merge(total_data_mesas, percentage_votos_totales[\n",
    "    ['distrito_nombre', 'seccion_nombre', 'circuito_nombre', 'mesa_id']])"
   ]
  },
  {
   "cell_type": "code",
   "execution_count": null,
   "id": "03feae23",
   "metadata": {},
   "outputs": [],
   "source": [
    "presidente_perc_votos_totales['agrupacion_ganadora'].value_counts()"
   ]
  },
  {
   "cell_type": "code",
   "execution_count": null,
   "id": "63f0b615",
   "metadata": {},
   "outputs": [],
   "source": [
    "plot_df = presidente_perc_votos_totales[['agrupacion_ganadora',\n",
    "                               'votos_cantidad']].groupby('agrupacion_ganadora').sum().sort_values(\n",
    "    'votos_cantidad', ascending=False).reset_index()"
   ]
  },
  {
   "cell_type": "code",
   "execution_count": null,
   "id": "631a8cbf",
   "metadata": {},
   "outputs": [],
   "source": [
    "plt.figure(figsize=(10, 5))\n",
    "plt.bar(plot_df['agrupacion_ganadora'], \n",
    "        plot_df['votos_cantidad'])\n",
    "plt.ylabel(\"Votos a presidente\")\n",
    "plt.title(f\"Votos a presidente en mesas donde el partido sacó más del {int(set_percentage * 100)}% de votos en todos los cargos\")"
   ]
  },
  {
   "cell_type": "code",
   "execution_count": null,
   "id": "8fc86fd8",
   "metadata": {},
   "outputs": [],
   "source": [
    "distrito_votos_totales = presidente_perc_votos_totales[\n",
    "    ['agrupacion_ganadora', 'distrito_nombre', 'votos_cantidad']].groupby(\n",
    "    ['agrupacion_ganadora', 'distrito_nombre']).sum().sort_values(\n",
    "    ['agrupacion_ganadora', 'votos_cantidad'], ascending=False)"
   ]
  },
  {
   "cell_type": "code",
   "execution_count": null,
   "id": "a34fe674",
   "metadata": {},
   "outputs": [],
   "source": [
    "distrito_votos_totales['percentage'] = distrito_votos_totales[\n",
    "    'votos_cantidad'] / distrito_votos_totales['votos_cantidad'].sum()"
   ]
  },
  {
   "cell_type": "code",
   "execution_count": null,
   "id": "eba2ae0e",
   "metadata": {},
   "outputs": [],
   "source": [
    "distrito_votos_totales"
   ]
  },
  {
   "cell_type": "code",
   "execution_count": null,
   "id": "1e897037",
   "metadata": {},
   "outputs": [],
   "source": [
    "presidente_perc_votos_totales[['agrupacion_ganadora', 'distrito_nombre', 'seccion_nombre', 'votos_cantidad']].groupby(\n",
    "    ['agrupacion_ganadora', 'distrito_nombre', 'seccion_nombre']).sum().sort_values(\n",
    "    ['agrupacion_ganadora', 'votos_cantidad'], ascending=False)"
   ]
  },
  {
   "cell_type": "markdown",
   "id": "42b437fa",
   "metadata": {},
   "source": [
    "#### Ver algunas mesas"
   ]
  },
  {
   "cell_type": "code",
   "execution_count": null,
   "id": "63973894",
   "metadata": {},
   "outputs": [],
   "source": [
    "percentage_votos_totales[\n",
    "    percentage_votos_totales['agrupacion_nombre'] == 'UNION POR LA PATRIA'].sort_values(\n",
    "    ['percentage', 'votos_cantidad'], ascending=False).head(10)"
   ]
  },
  {
   "cell_type": "code",
   "execution_count": null,
   "id": "5082e33c",
   "metadata": {},
   "outputs": [],
   "source": []
  }
 ],
 "metadata": {
  "kernelspec": {
   "display_name": "Python 3 (ipykernel)",
   "language": "python",
   "name": "python3"
  },
  "language_info": {
   "codemirror_mode": {
    "name": "ipython",
    "version": 3
   },
   "file_extension": ".py",
   "mimetype": "text/x-python",
   "name": "python",
   "nbconvert_exporter": "python",
   "pygments_lexer": "ipython3",
   "version": "3.9.15"
  }
 },
 "nbformat": 4,
 "nbformat_minor": 5
}

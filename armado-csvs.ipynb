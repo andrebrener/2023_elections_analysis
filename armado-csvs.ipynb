{
 "cells": [
  {
   "cell_type": "code",
   "execution_count": null,
   "id": "956c8417",
   "metadata": {},
   "outputs": [],
   "source": [
    "import pandas as pd"
   ]
  },
  {
   "cell_type": "code",
   "execution_count": null,
   "id": "f08e7229",
   "metadata": {},
   "outputs": [],
   "source": [
    "df = pd.read_csv('ResultadosElectorales_2023.csv')"
   ]
  },
  {
   "cell_type": "markdown",
   "id": "a32414b5",
   "metadata": {},
   "source": [
    "## Presidente afirmativos"
   ]
  },
  {
   "cell_type": "code",
   "execution_count": null,
   "id": "f2c5289a",
   "metadata": {},
   "outputs": [],
   "source": [
    "presidente_columns = ['distrito_nombre', 'seccionprovincial_nombre', 'seccion_nombre',\n",
    "       'circuito_nombre', 'mesa_id', 'mesa_tipo', 'mesa_electores',\n",
    "       'agrupacion_nombre', 'votos_cantidad']"
   ]
  },
  {
   "cell_type": "code",
   "execution_count": null,
   "id": "0deca286",
   "metadata": {},
   "outputs": [],
   "source": [
    "presidente = df[df['cargo_id']==1]"
   ]
  },
  {
   "cell_type": "code",
   "execution_count": null,
   "id": "608c3faa",
   "metadata": {},
   "outputs": [],
   "source": [
    "presidente_afirmativos = presidente[presidente['votos_tipo']=='POSITIVO']"
   ]
  },
  {
   "cell_type": "code",
   "execution_count": null,
   "id": "ce1ad061",
   "metadata": {},
   "outputs": [],
   "source": [
    "presidente_afirmativos[presidente_columns].to_csv('presidente_afirmativos.csv', index=False)"
   ]
  },
  {
   "cell_type": "markdown",
   "id": "bd244380",
   "metadata": {},
   "source": [
    "## Presidente invalidos"
   ]
  },
  {
   "cell_type": "code",
   "execution_count": null,
   "id": "4a32a720",
   "metadata": {},
   "outputs": [],
   "source": [
    "presidente_invalidos = presidente[presidente['votos_tipo']!='POSITIVO']"
   ]
  },
  {
   "cell_type": "code",
   "execution_count": null,
   "id": "296a3f6e",
   "metadata": {},
   "outputs": [],
   "source": [
    "presidente_invalidos[presidente_columns].to_csv('presidente_invalidos.csv', index=False)"
   ]
  },
  {
   "cell_type": "code",
   "execution_count": null,
   "id": "2e8cd071",
   "metadata": {},
   "outputs": [],
   "source": []
  }
 ],
 "metadata": {
  "kernelspec": {
   "display_name": "Python 3 (ipykernel)",
   "language": "python",
   "name": "python3"
  },
  "language_info": {
   "codemirror_mode": {
    "name": "ipython",
    "version": 3
   },
   "file_extension": ".py",
   "mimetype": "text/x-python",
   "name": "python",
   "nbconvert_exporter": "python",
   "pygments_lexer": "ipython3",
   "version": "3.9.15"
  }
 },
 "nbformat": 4,
 "nbformat_minor": 5
}

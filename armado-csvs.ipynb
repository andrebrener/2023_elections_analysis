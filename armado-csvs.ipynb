{
 "cells": [
  {
   "cell_type": "code",
   "execution_count": null,
   "id": "956c8417",
   "metadata": {},
   "outputs": [],
   "source": [
    "import pandas as pd"
   ]
  },
  {
   "cell_type": "code",
   "execution_count": null,
   "id": "f08e7229",
   "metadata": {},
   "outputs": [],
   "source": [
    "df = pd.read_csv('ResultadosElectorales_2023.csv')"
   ]
  },
  {
   "cell_type": "markdown",
   "id": "a32414b5",
   "metadata": {},
   "source": [
    "## Presidente afirmativos"
   ]
  },
  {
   "cell_type": "code",
   "execution_count": null,
   "id": "f2c5289a",
   "metadata": {},
   "outputs": [],
   "source": [
    "presidente_columns = ['distrito_nombre', 'seccionprovincial_nombre', 'seccion_nombre',\n",
    "       'circuito_nombre', 'mesa_id', 'mesa_tipo', 'mesa_electores',\n",
    "       'agrupacion_nombre', 'votos_cantidad']"
   ]
  },
  {
   "cell_type": "code",
   "execution_count": null,
   "id": "0deca286",
   "metadata": {},
   "outputs": [],
   "source": [
    "presidente = df[df['cargo_id']==1]"
   ]
  },
  {
   "cell_type": "code",
   "execution_count": null,
   "id": "608c3faa",
   "metadata": {},
   "outputs": [],
   "source": [
    "presidente_afirmativos = presidente[presidente['votos_tipo']=='POSITIVO'][presidente_columns]"
   ]
  },
  {
   "cell_type": "code",
   "execution_count": null,
   "id": "d306f9f2",
   "metadata": {},
   "outputs": [],
   "source": [
    "presidente_afirmativos.head()"
   ]
  },
  {
   "cell_type": "markdown",
   "id": "4d224abf",
   "metadata": {},
   "source": [
    "#### Agregarle mesas"
   ]
  },
  {
   "cell_type": "code",
   "execution_count": null,
   "id": "a54263c7",
   "metadata": {},
   "outputs": [],
   "source": [
    "mesas_df = presidente_afirmativos[['distrito_nombre', 'seccion_nombre', 'circuito_nombre', \n",
    "                                   'mesa_id', 'votos_cantidad']].groupby([\n",
    "    'distrito_nombre', 'seccion_nombre', 'circuito_nombre', 'mesa_id'\n",
    "]).sum().reset_index()"
   ]
  },
  {
   "cell_type": "code",
   "execution_count": null,
   "id": "28a910b1",
   "metadata": {},
   "outputs": [],
   "source": [
    "mesas_df.rename(columns = {'votos_cantidad': 'votos_mesa_total'}, inplace=True)"
   ]
  },
  {
   "cell_type": "code",
   "execution_count": null,
   "id": "b62048ae",
   "metadata": {},
   "outputs": [],
   "source": [
    "mesas_df = mesas_df[mesas_df['votos_mesa_total'] > 0]"
   ]
  },
  {
   "cell_type": "code",
   "execution_count": null,
   "id": "df708957",
   "metadata": {},
   "outputs": [],
   "source": [
    "presidente_afirmativos_total = pd.merge(presidente_afirmativos, mesas_df)"
   ]
  },
  {
   "cell_type": "code",
   "execution_count": null,
   "id": "2ac4eaa1",
   "metadata": {},
   "outputs": [],
   "source": [
    "presidente_afirmativos_total['percentage'] = presidente_afirmativos_total[\n",
    "    'votos_cantidad'] / presidente_afirmativos_total['votos_mesa_total']"
   ]
  },
  {
   "cell_type": "code",
   "execution_count": null,
   "id": "7745de5e",
   "metadata": {},
   "outputs": [],
   "source": [
    "presidente_afirmativos_total.shape"
   ]
  },
  {
   "cell_type": "code",
   "execution_count": null,
   "id": "ce1ad061",
   "metadata": {},
   "outputs": [],
   "source": [
    "presidente_afirmativos_total.to_csv('presidente_afirmativos.csv', index=False)"
   ]
  },
  {
   "cell_type": "markdown",
   "id": "2050061f",
   "metadata": {},
   "source": [
    "## Ganadores por mesa"
   ]
  },
  {
   "cell_type": "code",
   "execution_count": null,
   "id": "321f99db",
   "metadata": {},
   "outputs": [],
   "source": [
    "ganadores_por_mesa = presidente_afirmativos_total.sort_values('votos_cantidad', ascending=False).groupby(\n",
    "    ['distrito_nombre', 'seccion_nombre', 'circuito_nombre', 'mesa_id'\n",
    "]).first().reset_index()"
   ]
  },
  {
   "cell_type": "markdown",
   "id": "14dc2b18",
   "metadata": {},
   "source": [
    "## Votos totales por mesa"
   ]
  },
  {
   "cell_type": "code",
   "execution_count": null,
   "id": "4736a8a1",
   "metadata": {},
   "outputs": [],
   "source": [
    "# votos_afirmativos_por_mesa = presidente_afirmativos_total.pivot(columns=['agrupacion_nombre'], \n",
    "#                 index=[ 'distrito_nombre',\n",
    "#                         'seccion_nombre',\n",
    "#                         'circuito_nombre',\n",
    "#                         'mesa_id'],\n",
    "#                values='votos_cantidad').reset_index()"
   ]
  },
  {
   "cell_type": "markdown",
   "id": "bd244380",
   "metadata": {},
   "source": [
    "## Presidente invalidos"
   ]
  },
  {
   "cell_type": "code",
   "execution_count": null,
   "id": "4a32a720",
   "metadata": {},
   "outputs": [],
   "source": [
    "presidente_invalidos = presidente[presidente['votos_tipo']!='POSITIVO']"
   ]
  },
  {
   "cell_type": "markdown",
   "id": "c9f08162",
   "metadata": {},
   "source": [
    "#### Agregarle mesas"
   ]
  },
  {
   "cell_type": "code",
   "execution_count": null,
   "id": "dd9ee304",
   "metadata": {},
   "outputs": [],
   "source": [
    "mesas_invalidos = presidente_invalidos.pivot(columns=['votos_tipo'], \n",
    "                index=[ 'distrito_nombre',\n",
    "                        'seccion_nombre',\n",
    "                        'circuito_nombre',\n",
    "                        'mesa_id'],\n",
    "               values='votos_cantidad').reset_index()"
   ]
  },
  {
   "cell_type": "code",
   "execution_count": null,
   "id": "b121b033",
   "metadata": {},
   "outputs": [],
   "source": [
    "total_mesas = pd.merge(mesas_df, mesas_invalidos)"
   ]
  },
  {
   "cell_type": "code",
   "execution_count": null,
   "id": "7129f967",
   "metadata": {},
   "outputs": [],
   "source": [
    "total_mesas.shape"
   ]
  },
  {
   "cell_type": "code",
   "execution_count": null,
   "id": "cd31e221",
   "metadata": {},
   "outputs": [],
   "source": [
    "total_mesas['total_invalidos'] = total_mesas[\n",
    "    ['COMANDO', 'IMPUGNADO', 'NULO', 'RECURRIDO']].sum(axis=1)"
   ]
  },
  {
   "cell_type": "code",
   "execution_count": null,
   "id": "33fda13f",
   "metadata": {},
   "outputs": [],
   "source": [
    "total_mesas['total_no_afirmativos'] = total_mesas[\n",
    "    ['COMANDO', 'EN BLANCO', 'IMPUGNADO', 'NULO', 'RECURRIDO']].sum(axis=1)"
   ]
  },
  {
   "cell_type": "code",
   "execution_count": null,
   "id": "9314a5e8",
   "metadata": {},
   "outputs": [],
   "source": [
    "total_data_mesas = pd.merge(total_mesas, ganadores_por_mesa)"
   ]
  },
  {
   "cell_type": "code",
   "execution_count": null,
   "id": "4bda7630",
   "metadata": {},
   "outputs": [],
   "source": [
    "total_data_mesas.rename(columns = {'agrupacion_nombre': 'agrupacion_ganadora'}, inplace=True)"
   ]
  },
  {
   "cell_type": "code",
   "execution_count": null,
   "id": "9573a233",
   "metadata": {},
   "outputs": [],
   "source": [
    "total_data_mesas['invalidos_percentage'] = total_data_mesas['total_invalidos'] / total_data_mesas['votos_mesa_total']"
   ]
  },
  {
   "cell_type": "code",
   "execution_count": null,
   "id": "296a3f6e",
   "metadata": {},
   "outputs": [],
   "source": [
    "total_data_mesas.to_csv('total_data_mesas.csv', index=False)"
   ]
  },
  {
   "cell_type": "markdown",
   "id": "3c70dde9",
   "metadata": {},
   "source": [
    "## Votos de todos los cargos"
   ]
  },
  {
   "cell_type": "markdown",
   "id": "39fcb051",
   "metadata": {},
   "source": [
    "Todos los votos positivos de todos los cargos por mesa"
   ]
  },
  {
   "cell_type": "code",
   "execution_count": null,
   "id": "6a6ad3ea",
   "metadata": {},
   "outputs": [],
   "source": [
    "votos_totales_por_mesa = df[df['votos_tipo']=='POSITIVO'][['distrito_nombre', 'seccion_nombre', 'circuito_nombre', \n",
    "     'mesa_id', 'votos_cantidad']].groupby(['distrito_nombre', 'seccion_nombre', 'circuito_nombre', \n",
    "     'mesa_id']).sum().reset_index()"
   ]
  },
  {
   "cell_type": "code",
   "execution_count": null,
   "id": "6f1d7f4c",
   "metadata": {},
   "outputs": [],
   "source": [
    "votos_totales_por_mesa.rename(columns = {'votos_cantidad': 'votos_totales_mesa'}, inplace=True)"
   ]
  },
  {
   "cell_type": "code",
   "execution_count": null,
   "id": "3f2b9d6d",
   "metadata": {},
   "outputs": [],
   "source": [
    "partidos_a_mostrar = ['UNION POR LA PATRIA', 'JUNTOS POR EL CAMBIO', 'LA LIBERTAD AVANZA']"
   ]
  },
  {
   "cell_type": "code",
   "execution_count": null,
   "id": "ec7e2100",
   "metadata": {},
   "outputs": [],
   "source": [
    "partidos_df = df[df['agrupacion_nombre'].isin(partidos_a_mostrar)][\n",
    "    ['distrito_nombre', 'seccion_nombre', 'circuito_nombre', \n",
    "     'mesa_id', 'cargo_nombre', 'agrupacion_nombre', 'votos_cantidad']\n",
    "]"
   ]
  },
  {
   "cell_type": "code",
   "execution_count": null,
   "id": "ba0acff7",
   "metadata": {},
   "outputs": [],
   "source": [
    "votos_totales_por_partido_mesa = partidos_df[['distrito_nombre', 'seccion_nombre', 'circuito_nombre', \n",
    "     'mesa_id', 'agrupacion_nombre', 'votos_cantidad']].groupby(['distrito_nombre', 'seccion_nombre', 'circuito_nombre', \n",
    "     'mesa_id', 'agrupacion_nombre']).sum().reset_index()"
   ]
  },
  {
   "cell_type": "code",
   "execution_count": null,
   "id": "3b78a0e5",
   "metadata": {},
   "outputs": [],
   "source": [
    "total_votos_df = pd.merge(votos_totales_por_partido_mesa, votos_totales_por_mesa)"
   ]
  },
  {
   "cell_type": "code",
   "execution_count": null,
   "id": "31457c39",
   "metadata": {},
   "outputs": [],
   "source": [
    "total_votos_df.to_csv('total_votos.csv', index=False)"
   ]
  },
  {
   "cell_type": "code",
   "execution_count": null,
   "id": "d7db92d8",
   "metadata": {},
   "outputs": [],
   "source": []
  }
 ],
 "metadata": {
  "kernelspec": {
   "display_name": "Python 3 (ipykernel)",
   "language": "python",
   "name": "python3"
  },
  "language_info": {
   "codemirror_mode": {
    "name": "ipython",
    "version": 3
   },
   "file_extension": ".py",
   "mimetype": "text/x-python",
   "name": "python",
   "nbconvert_exporter": "python",
   "pygments_lexer": "ipython3",
   "version": "3.9.15"
  }
 },
 "nbformat": 4,
 "nbformat_minor": 5
}

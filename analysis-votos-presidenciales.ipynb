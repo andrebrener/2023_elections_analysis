{
 "cells": [
  {
   "cell_type": "code",
   "execution_count": null,
   "id": "956c8417",
   "metadata": {},
   "outputs": [],
   "source": [
    "import pandas as pd\n",
    "import matplotlib.pyplot as plt"
   ]
  },
  {
   "cell_type": "markdown",
   "id": "bef3b393",
   "metadata": {},
   "source": [
    "## Armado del dataset"
   ]
  },
  {
   "cell_type": "markdown",
   "id": "16650853",
   "metadata": {},
   "source": [
    "#### Votos validos"
   ]
  },
  {
   "cell_type": "code",
   "execution_count": null,
   "id": "f08e7229",
   "metadata": {},
   "outputs": [],
   "source": [
    "df = pd.read_csv('presidente_afirmativos.csv')"
   ]
  },
  {
   "cell_type": "code",
   "execution_count": null,
   "id": "49ae92c5",
   "metadata": {},
   "outputs": [],
   "source": [
    "df.shape"
   ]
  },
  {
   "cell_type": "markdown",
   "id": "457d4522",
   "metadata": {},
   "source": [
    "#### Mesas"
   ]
  },
  {
   "cell_type": "code",
   "execution_count": null,
   "id": "fa1e2d3a",
   "metadata": {},
   "outputs": [],
   "source": [
    "total_data_mesas = pd.read_csv('total_data_mesas.csv')"
   ]
  },
  {
   "cell_type": "code",
   "execution_count": null,
   "id": "5dbd7fcf",
   "metadata": {},
   "outputs": [],
   "source": [
    "total_data_mesas.shape"
   ]
  },
  {
   "cell_type": "markdown",
   "id": "53ea08b6",
   "metadata": {},
   "source": [
    "## Distribucion de mesas por % sacado"
   ]
  },
  {
   "cell_type": "code",
   "execution_count": null,
   "id": "bebc1e23",
   "metadata": {
    "scrolled": true
   },
   "outputs": [],
   "source": [
    "for a, a_df in df.groupby('agrupacion_nombre'):\n",
    "    fig = plt.figure(figsize=(10, 5))\n",
    "    plt.title(a)\n",
    "    a_df['percentage'].hist(bins=100)"
   ]
  },
  {
   "cell_type": "markdown",
   "id": "e4d8f535",
   "metadata": {},
   "source": [
    "## Mesas con % de votos de un partido"
   ]
  },
  {
   "cell_type": "markdown",
   "id": "d01d6e57",
   "metadata": {},
   "source": [
    "Defino el porcentaje votos de un partido para comparar"
   ]
  },
  {
   "cell_type": "code",
   "execution_count": null,
   "id": "a59e226b",
   "metadata": {},
   "outputs": [],
   "source": [
    "set_percentage = 0.8"
   ]
  },
  {
   "cell_type": "code",
   "execution_count": null,
   "id": "b6961112",
   "metadata": {},
   "outputs": [],
   "source": [
    "mesas_percentage = total_data_mesas[total_data_mesas['percentage'] >= set_percentage]"
   ]
  },
  {
   "cell_type": "markdown",
   "id": "00c746e5",
   "metadata": {},
   "source": [
    "#### Cantidad de mesas por agrupacion"
   ]
  },
  {
   "cell_type": "code",
   "execution_count": null,
   "id": "0a19045f",
   "metadata": {},
   "outputs": [],
   "source": [
    "mesas_percentage['agrupacion_ganadora'].value_counts()"
   ]
  },
  {
   "cell_type": "markdown",
   "id": "8f2d952d",
   "metadata": {},
   "source": [
    "#### Cantidad de mesas por agrupacion y location"
   ]
  },
  {
   "cell_type": "code",
   "execution_count": null,
   "id": "11b99184",
   "metadata": {},
   "outputs": [],
   "source": [
    "mesas_percentage[['agrupacion_ganadora', 'distrito_nombre', 'votos_cantidad']].groupby(\n",
    "    ['agrupacion_ganadora', 'distrito_nombre']).count().sort_values(\n",
    "    ['agrupacion_ganadora', 'votos_cantidad'], ascending=False)"
   ]
  },
  {
   "cell_type": "code",
   "execution_count": null,
   "id": "c22ab50b",
   "metadata": {},
   "outputs": [],
   "source": [
    "mesas_percentage[['agrupacion_ganadora', 'distrito_nombre', 'seccion_nombre', 'votos_cantidad']].groupby(\n",
    "    ['agrupacion_ganadora', 'distrito_nombre', 'seccion_nombre']).count().sort_values(\n",
    "    ['agrupacion_ganadora', 'votos_cantidad'], ascending=False)"
   ]
  },
  {
   "cell_type": "markdown",
   "id": "77c8a935",
   "metadata": {},
   "source": [
    "#### Cantidad de votos por agrupacion"
   ]
  },
  {
   "cell_type": "code",
   "execution_count": null,
   "id": "77b9ecda",
   "metadata": {},
   "outputs": [],
   "source": [
    "mesas_percentage[['agrupacion_ganadora', 'votos_cantidad']].groupby(\n",
    "    'agrupacion_ganadora').sum().sort_values('votos_cantidad', ascending=False)"
   ]
  },
  {
   "cell_type": "markdown",
   "id": "58e17ef5",
   "metadata": {},
   "source": [
    "#### Cantidad de mesas por agrupacion y distrito"
   ]
  },
  {
   "cell_type": "code",
   "execution_count": null,
   "id": "23b78c02",
   "metadata": {},
   "outputs": [],
   "source": [
    "mesas_percentage[['agrupacion_ganadora', 'distrito_nombre', 'votos_cantidad']].groupby(\n",
    "    ['agrupacion_ganadora', 'distrito_nombre']).sum().sort_values(\n",
    "    ['agrupacion_ganadora', 'votos_cantidad'], ascending=False)"
   ]
  },
  {
   "cell_type": "markdown",
   "id": "0d2d756d",
   "metadata": {},
   "source": [
    "## Porcentaje de victoria"
   ]
  },
  {
   "cell_type": "markdown",
   "id": "55674d2a",
   "metadata": {},
   "source": [
    "#### Total"
   ]
  },
  {
   "cell_type": "code",
   "execution_count": null,
   "id": "b561fa37",
   "metadata": {},
   "outputs": [],
   "source": [
    "percentage_dfs = []"
   ]
  },
  {
   "cell_type": "code",
   "execution_count": null,
   "id": "f3756e47",
   "metadata": {},
   "outputs": [],
   "source": [
    "for p, p_df in total_data_mesas.groupby('agrupacion_ganadora'):\n",
    "    temp_df = p_df['percentage'].describe().to_frame()\n",
    "    temp_df.columns = [p]\n",
    "    percentage_dfs.append(temp_df.T)"
   ]
  },
  {
   "cell_type": "code",
   "execution_count": null,
   "id": "2c026c3e",
   "metadata": {},
   "outputs": [],
   "source": [
    "pd.concat(percentage_dfs)"
   ]
  },
  {
   "cell_type": "markdown",
   "id": "5c328ab3",
   "metadata": {},
   "source": [
    "## Votos no validos"
   ]
  },
  {
   "cell_type": "markdown",
   "id": "9f4b5777",
   "metadata": {},
   "source": [
    "#### % de mesas sin invalidos por agrupacion ganadora"
   ]
  },
  {
   "cell_type": "code",
   "execution_count": null,
   "id": "c37d6b4a",
   "metadata": {},
   "outputs": [],
   "source": [
    "zero_invalidos = total_data_mesas[total_data_mesas['total_invalidos'] == 0].copy()"
   ]
  },
  {
   "cell_type": "code",
   "execution_count": null,
   "id": "2945e26e",
   "metadata": {},
   "outputs": [],
   "source": [
    "agrupacion_grp_sin = zero_invalidos['agrupacion_ganadora'].value_counts().to_frame().reset_index()"
   ]
  },
  {
   "cell_type": "code",
   "execution_count": null,
   "id": "0ab494a0",
   "metadata": {},
   "outputs": [],
   "source": [
    "agrupacion_grp_sin.columns = ['agrupacion_ganadora', 'sin_invalidos']"
   ]
  },
  {
   "cell_type": "code",
   "execution_count": null,
   "id": "d0f79bf0",
   "metadata": {},
   "outputs": [],
   "source": [
    "agrupacion_grp_total = total_data_mesas['agrupacion_ganadora'].value_counts().to_frame().reset_index()"
   ]
  },
  {
   "cell_type": "code",
   "execution_count": null,
   "id": "4533b71d",
   "metadata": {},
   "outputs": [],
   "source": [
    "agrupacion_grp_total.columns = ['agrupacion_ganadora', 'total']"
   ]
  },
  {
   "cell_type": "code",
   "execution_count": null,
   "id": "79a92846",
   "metadata": {},
   "outputs": [],
   "source": [
    "agrupaciones_ganadoras_invalidos = pd.merge(agrupacion_grp_sin, agrupacion_grp_total)"
   ]
  },
  {
   "cell_type": "code",
   "execution_count": null,
   "id": "081400a5",
   "metadata": {},
   "outputs": [],
   "source": [
    "agrupaciones_ganadoras_invalidos['percentage'] = agrupaciones_ganadoras_invalidos[\n",
    "    'sin_invalidos'] / agrupaciones_ganadoras_invalidos['total']"
   ]
  },
  {
   "cell_type": "code",
   "execution_count": null,
   "id": "134d9fb0",
   "metadata": {},
   "outputs": [],
   "source": [
    "agrupaciones_ganadoras_invalidos.sort_values('percentage', ascending=False)"
   ]
  },
  {
   "cell_type": "markdown",
   "id": "7810b306",
   "metadata": {},
   "source": [
    "#### Mesas ganadores con mas invalidos por agrupacion"
   ]
  },
  {
   "cell_type": "code",
   "execution_count": null,
   "id": "5c71bd9e",
   "metadata": {},
   "outputs": [],
   "source": [
    "dfs = []"
   ]
  },
  {
   "cell_type": "code",
   "execution_count": null,
   "id": "8418cd91",
   "metadata": {},
   "outputs": [],
   "source": [
    "for p, p_df in total_data_mesas.groupby('agrupacion_ganadora'):\n",
    "    temp_df = p_df['invalidos_percentage'].describe().to_frame()\n",
    "    temp_df.columns = [p]\n",
    "    dfs.append(temp_df.T)"
   ]
  },
  {
   "cell_type": "code",
   "execution_count": null,
   "id": "d2bb94cc",
   "metadata": {},
   "outputs": [],
   "source": [
    "inv_dist_df = pd.concat(dfs)"
   ]
  },
  {
   "cell_type": "code",
   "execution_count": null,
   "id": "efbcc31c",
   "metadata": {},
   "outputs": [],
   "source": [
    "inv_dist_df"
   ]
  },
  {
   "cell_type": "code",
   "execution_count": null,
   "id": "b05ac240",
   "metadata": {
    "scrolled": true
   },
   "outputs": [],
   "source": [
    "for v in ['mean', '25%', '50%', '75%', 'max']:\n",
    "    fig = plt.figure(figsize=(15, 5))\n",
    "    plt.title(v)\n",
    "    plot_df = inv_dist_df.sort_values(v)\n",
    "    x_values = plot_df.index\n",
    "    plt.bar(x_values, plot_df[v])"
   ]
  },
  {
   "cell_type": "markdown",
   "id": "9b6f2123",
   "metadata": {},
   "source": [
    "## Votos en blanco"
   ]
  },
  {
   "cell_type": "markdown",
   "id": "540ea635",
   "metadata": {},
   "source": [
    "#### Votos en blanco por mesa por agrupacion ganadora"
   ]
  },
  {
   "cell_type": "code",
   "execution_count": null,
   "id": "a342d067",
   "metadata": {},
   "outputs": [],
   "source": [
    "blancos_por_mesa_ganadora = total_data_mesas[\n",
    "    ['agrupacion_ganadora', 'EN BLANCO']].groupby('agrupacion_ganadora').agg(['count', 'sum'])"
   ]
  },
  {
   "cell_type": "code",
   "execution_count": null,
   "id": "ce5209ec",
   "metadata": {},
   "outputs": [],
   "source": [
    "blancos_por_mesa_ganadora"
   ]
  },
  {
   "cell_type": "code",
   "execution_count": null,
   "id": "4efac9c8",
   "metadata": {},
   "outputs": [],
   "source": [
    "blancos_por_mesa_ganadora['blancos_por_mesa'] = blancos_por_mesa_ganadora['EN BLANCO'][\n",
    "    'sum'] / blancos_por_mesa_ganadora['EN BLANCO']['count']"
   ]
  },
  {
   "cell_type": "code",
   "execution_count": null,
   "id": "2d0a99e6",
   "metadata": {},
   "outputs": [],
   "source": [
    "blancos_por_mesa_ganadora.sort_values('blancos_por_mesa', ascending=False)"
   ]
  },
  {
   "cell_type": "markdown",
   "id": "24686a6f",
   "metadata": {},
   "source": [
    "#### Mesas con y sin votos en blanco"
   ]
  },
  {
   "cell_type": "code",
   "execution_count": null,
   "id": "63e6470b",
   "metadata": {},
   "outputs": [],
   "source": [
    "con_votos_en_blanco = total_data_mesas[total_data_mesas['EN BLANCO'] > 0].copy()"
   ]
  },
  {
   "cell_type": "code",
   "execution_count": null,
   "id": "da54c504",
   "metadata": {},
   "outputs": [],
   "source": [
    "con_votos_en_blanco['agrupacion_ganadora'].value_counts()"
   ]
  },
  {
   "cell_type": "code",
   "execution_count": null,
   "id": "39afc0e6",
   "metadata": {},
   "outputs": [],
   "source": [
    "agrupacion_grp_con_votos_en_blanco = con_votos_en_blanco[\n",
    "    'agrupacion_ganadora'].value_counts().to_frame().reset_index()"
   ]
  },
  {
   "cell_type": "code",
   "execution_count": null,
   "id": "15f5d006",
   "metadata": {},
   "outputs": [],
   "source": [
    "agrupacion_grp_con_votos_en_blanco.columns = ['agrupacion_ganadora', 'con_blancos']"
   ]
  },
  {
   "cell_type": "code",
   "execution_count": null,
   "id": "a2b668dc",
   "metadata": {},
   "outputs": [],
   "source": [
    "agrupaciones_ganadoras_blancos = pd.merge(agrupacion_grp_con_votos_en_blanco, agrupacion_grp_total)"
   ]
  },
  {
   "cell_type": "code",
   "execution_count": null,
   "id": "876569d3",
   "metadata": {},
   "outputs": [],
   "source": [
    "agrupaciones_ganadoras_blancos['percentage'] = agrupaciones_ganadoras_blancos[\n",
    "    'con_blancos'] / agrupaciones_ganadoras_invalidos['total']"
   ]
  },
  {
   "cell_type": "code",
   "execution_count": null,
   "id": "ebefa237",
   "metadata": {},
   "outputs": [],
   "source": [
    "agrupaciones_ganadoras_blancos.sort_values('percentage', ascending=False)"
   ]
  },
  {
   "cell_type": "markdown",
   "id": "40502923",
   "metadata": {},
   "source": [
    "## Mesas con un minimo de votos"
   ]
  },
  {
   "cell_type": "markdown",
   "id": "879a7ca5",
   "metadata": {},
   "source": [
    "Defino la cantidad minima de votos para el analisis"
   ]
  },
  {
   "cell_type": "code",
   "execution_count": null,
   "id": "5e18de1d",
   "metadata": {},
   "outputs": [],
   "source": [
    "min_votos = 10"
   ]
  },
  {
   "cell_type": "code",
   "execution_count": null,
   "id": "0457535b",
   "metadata": {},
   "outputs": [],
   "source": [
    "mesas_min_votos = df[df['votos_cantidad'] <= min_votos]"
   ]
  },
  {
   "cell_type": "markdown",
   "id": "ac97faf9",
   "metadata": {},
   "source": [
    "#### Total por agrupacion"
   ]
  },
  {
   "cell_type": "code",
   "execution_count": null,
   "id": "10357cfb",
   "metadata": {},
   "outputs": [],
   "source": [
    "mesas_min_votos['agrupacion_nombre'].value_counts()"
   ]
  },
  {
   "cell_type": "markdown",
   "id": "19f7bdf7",
   "metadata": {},
   "source": [
    "#### Por agrupacion y distrito"
   ]
  },
  {
   "cell_type": "code",
   "execution_count": null,
   "id": "61ba78fc",
   "metadata": {},
   "outputs": [],
   "source": [
    "agrupaciones = ['JUNTOS POR EL CAMBIO', 'LA LIBERTAD AVANZA', 'UNION POR LA PATRIA']"
   ]
  },
  {
   "cell_type": "code",
   "execution_count": null,
   "id": "552c0c2b",
   "metadata": {},
   "outputs": [],
   "source": [
    "mesas_min_votos[mesas_min_votos['agrupacion_nombre'].isin(agrupaciones)][\n",
    "    ['distrito_nombre', 'agrupacion_nombre', 'mesa_id']].groupby(\n",
    "    ['agrupacion_nombre', 'distrito_nombre']).count()"
   ]
  },
  {
   "cell_type": "markdown",
   "id": "16331ed2",
   "metadata": {},
   "source": [
    "#### En un partido especifico"
   ]
  },
  {
   "cell_type": "code",
   "execution_count": null,
   "id": "8d615a6c",
   "metadata": {},
   "outputs": [],
   "source": [
    "# partido = 'LA LIBERTAD AVANZA'\n",
    "partido = 'UNION POR LA PATRIA'"
   ]
  },
  {
   "cell_type": "code",
   "execution_count": null,
   "id": "2f20a0cd",
   "metadata": {},
   "outputs": [],
   "source": [
    "partido_mesas_min_votos = mesas_min_votos[mesas_min_votos['agrupacion_nombre'] == partido]"
   ]
  },
  {
   "cell_type": "code",
   "execution_count": null,
   "id": "6f03a633",
   "metadata": {},
   "outputs": [],
   "source": [
    "partido_a_comparar = 'LA LIBERTAD AVANZA'"
   ]
  },
  {
   "cell_type": "code",
   "execution_count": null,
   "id": "79049e28",
   "metadata": {},
   "outputs": [],
   "source": [
    "comparacion_df = df[df['agrupacion_nombre'] == partido_a_comparar]"
   ]
  },
  {
   "cell_type": "code",
   "execution_count": null,
   "id": "32b7d493",
   "metadata": {},
   "outputs": [],
   "source": [
    "comparacion_partido = pd.merge(comparacion_df, partido_mesas_min_votos[\n",
    "    ['distrito_nombre', 'seccionprovincial_nombre', 'seccion_nombre',\n",
    "       'circuito_nombre', 'mesa_id']])"
   ]
  },
  {
   "cell_type": "markdown",
   "id": "1c90b5b1",
   "metadata": {},
   "source": [
    "#### Distribucion por location"
   ]
  },
  {
   "cell_type": "code",
   "execution_count": null,
   "id": "eccc7392",
   "metadata": {},
   "outputs": [],
   "source": [
    "comparacion_partido[['distrito_nombre', 'seccion_nombre', 'mesa_id']].groupby(\n",
    "    ['distrito_nombre', 'seccion_nombre']).count().sort_values(\n",
    "    ['mesa_id'], ascending=False).head()"
   ]
  },
  {
   "cell_type": "markdown",
   "id": "1eae1c52",
   "metadata": {},
   "source": [
    "#### Cantidad de votos en otro partido"
   ]
  },
  {
   "cell_type": "code",
   "execution_count": null,
   "id": "34c60920",
   "metadata": {},
   "outputs": [],
   "source": [
    "comparacion_partido['votos_cantidad'].sum()"
   ]
  },
  {
   "cell_type": "code",
   "execution_count": null,
   "id": "345018cd",
   "metadata": {},
   "outputs": [],
   "source": [
    "comparacion_partido[['distrito_nombre', 'seccion_nombre', 'votos_cantidad']].groupby(\n",
    "    ['distrito_nombre', 'seccion_nombre']).sum().sort_values(\n",
    "    ['votos_cantidad'], ascending=False).head(20)"
   ]
  },
  {
   "cell_type": "code",
   "execution_count": null,
   "id": "ea1a7e40",
   "metadata": {},
   "outputs": [],
   "source": []
  }
 ],
 "metadata": {
  "kernelspec": {
   "display_name": "Python 3 (ipykernel)",
   "language": "python",
   "name": "python3"
  },
  "language_info": {
   "codemirror_mode": {
    "name": "ipython",
    "version": 3
   },
   "file_extension": ".py",
   "mimetype": "text/x-python",
   "name": "python",
   "nbconvert_exporter": "python",
   "pygments_lexer": "ipython3",
   "version": "3.9.15"
  }
 },
 "nbformat": 4,
 "nbformat_minor": 5
}

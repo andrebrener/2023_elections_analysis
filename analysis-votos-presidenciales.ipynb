{
 "cells": [
  {
   "cell_type": "code",
   "execution_count": null,
   "id": "956c8417",
   "metadata": {},
   "outputs": [],
   "source": [
    "import pandas as pd\n",
    "import matplotlib.pyplot as plt"
   ]
  },
  {
   "cell_type": "markdown",
   "id": "bef3b393",
   "metadata": {},
   "source": [
    "## Armado del dataset"
   ]
  },
  {
   "cell_type": "markdown",
   "id": "16650853",
   "metadata": {},
   "source": [
    "#### Votos validos"
   ]
  },
  {
   "cell_type": "code",
   "execution_count": null,
   "id": "f08e7229",
   "metadata": {},
   "outputs": [],
   "source": [
    "df = pd.read_csv('presidente_afirmativos.csv')"
   ]
  },
  {
   "cell_type": "code",
   "execution_count": null,
   "id": "49ae92c5",
   "metadata": {},
   "outputs": [],
   "source": [
    "df.shape"
   ]
  },
  {
   "cell_type": "markdown",
   "id": "457d4522",
   "metadata": {},
   "source": [
    "#### Mesas"
   ]
  },
  {
   "cell_type": "code",
   "execution_count": null,
   "id": "fa1e2d3a",
   "metadata": {},
   "outputs": [],
   "source": [
    "total_data_mesas = pd.read_csv('total_data_mesas.csv')"
   ]
  },
  {
   "cell_type": "code",
   "execution_count": null,
   "id": "5dbd7fcf",
   "metadata": {},
   "outputs": [],
   "source": [
    "total_data_mesas.shape"
   ]
  },
  {
   "cell_type": "markdown",
   "id": "53ea08b6",
   "metadata": {},
   "source": [
    "## Distribucion de mesas por % sacado"
   ]
  },
  {
   "cell_type": "code",
   "execution_count": null,
   "id": "bebc1e23",
   "metadata": {
    "scrolled": true
   },
   "outputs": [],
   "source": [
    "for a, a_df in df.groupby('agrupacion_nombre'):\n",
    "    fig = plt.figure(figsize=(15, 8))\n",
    "    plt.title(a)\n",
    "    a_df['percentage'].hist(bins=100)"
   ]
  },
  {
   "cell_type": "markdown",
   "id": "e4d8f535",
   "metadata": {},
   "source": [
    "## Mesas con % de votos de un partido"
   ]
  },
  {
   "cell_type": "code",
   "execution_count": null,
   "id": "a59e226b",
   "metadata": {},
   "outputs": [],
   "source": [
    "set_percentage = 0.9"
   ]
  },
  {
   "cell_type": "code",
   "execution_count": null,
   "id": "b6961112",
   "metadata": {},
   "outputs": [],
   "source": [
    "mesas_percentage = total_data_mesas[total_data_mesas['percentage'] >= set_percentage]"
   ]
  },
  {
   "cell_type": "markdown",
   "id": "00c746e5",
   "metadata": {},
   "source": [
    "#### Cantidad de mesas por agrupacion"
   ]
  },
  {
   "cell_type": "code",
   "execution_count": null,
   "id": "0a19045f",
   "metadata": {},
   "outputs": [],
   "source": [
    "mesas_percentage['agrupacion_ganadora'].value_counts()"
   ]
  },
  {
   "cell_type": "code",
   "execution_count": null,
   "id": "401ece7d",
   "metadata": {},
   "outputs": [],
   "source": [
    "mesas_percentage[mesas_percentage['agrupacion_ganadora']=='UNION POR LA PATRIA'].sort_values(\n",
    "    'percentage', ascending=False)"
   ]
  },
  {
   "cell_type": "markdown",
   "id": "8f2d952d",
   "metadata": {},
   "source": [
    "#### Cantidad de mesas por agrupacion y distrito"
   ]
  },
  {
   "cell_type": "code",
   "execution_count": null,
   "id": "11b99184",
   "metadata": {},
   "outputs": [],
   "source": [
    "mesas_percentage[['agrupacion_ganadora', 'distrito_nombre', 'votos_cantidad']].groupby(\n",
    "    ['agrupacion_ganadora', 'distrito_nombre']).count().sort_values(\n",
    "    ['agrupacion_ganadora', 'votos_cantidad'], ascending=False)"
   ]
  },
  {
   "cell_type": "markdown",
   "id": "77c8a935",
   "metadata": {},
   "source": [
    "#### Cantidad de votos por agrupacion"
   ]
  },
  {
   "cell_type": "code",
   "execution_count": null,
   "id": "77b9ecda",
   "metadata": {},
   "outputs": [],
   "source": [
    "mesas_percentage[['agrupacion_ganadora', 'votos_cantidad']].groupby(\n",
    "    'agrupacion_ganadora').sum().sort_values('votos_cantidad', ascending=False)"
   ]
  },
  {
   "cell_type": "markdown",
   "id": "58e17ef5",
   "metadata": {},
   "source": [
    "#### Cantidad de mesas por agrupacion y distrito"
   ]
  },
  {
   "cell_type": "code",
   "execution_count": null,
   "id": "23b78c02",
   "metadata": {},
   "outputs": [],
   "source": [
    "mesas_percentage[['agrupacion_ganadora', 'distrito_nombre', 'votos_cantidad']].groupby(\n",
    "    ['agrupacion_ganadora', 'distrito_nombre']).sum().sort_values(\n",
    "    ['agrupacion_ganadora', 'votos_cantidad'], ascending=False)"
   ]
  },
  {
   "cell_type": "markdown",
   "id": "0d2d756d",
   "metadata": {},
   "source": [
    "## Porcentaje de victoria"
   ]
  },
  {
   "cell_type": "markdown",
   "id": "55674d2a",
   "metadata": {},
   "source": [
    "#### Total"
   ]
  },
  {
   "cell_type": "code",
   "execution_count": null,
   "id": "b561fa37",
   "metadata": {},
   "outputs": [],
   "source": [
    "percentage_dfs = []"
   ]
  },
  {
   "cell_type": "code",
   "execution_count": null,
   "id": "f3756e47",
   "metadata": {},
   "outputs": [],
   "source": [
    "for p, p_df in total_data_mesas.groupby('agrupacion_ganadora'):\n",
    "    temp_df = p_df['percentage'].describe().to_frame()\n",
    "    temp_df.columns = [p]\n",
    "    percentage_dfs.append(temp_df.T)"
   ]
  },
  {
   "cell_type": "code",
   "execution_count": null,
   "id": "2c026c3e",
   "metadata": {},
   "outputs": [],
   "source": [
    "pd.concat(percentage_dfs)"
   ]
  },
  {
   "cell_type": "markdown",
   "id": "5c328ab3",
   "metadata": {},
   "source": [
    "## Votos no validos"
   ]
  },
  {
   "cell_type": "markdown",
   "id": "9f4b5777",
   "metadata": {},
   "source": [
    "#### % de mesas sin invalidos por agrupacion ganadora"
   ]
  },
  {
   "cell_type": "code",
   "execution_count": null,
   "id": "c37d6b4a",
   "metadata": {},
   "outputs": [],
   "source": [
    "zero_invalidos = total_data_mesas[total_data_mesas['total_invalidos'] == 0].copy()"
   ]
  },
  {
   "cell_type": "code",
   "execution_count": null,
   "id": "2945e26e",
   "metadata": {},
   "outputs": [],
   "source": [
    "agrupacion_grp_sin = zero_invalidos['agrupacion_ganadora'].value_counts().to_frame().reset_index()"
   ]
  },
  {
   "cell_type": "code",
   "execution_count": null,
   "id": "0ab494a0",
   "metadata": {},
   "outputs": [],
   "source": [
    "agrupacion_grp_sin.columns = ['agrupacion_ganadora', 'sin_invalidos']"
   ]
  },
  {
   "cell_type": "code",
   "execution_count": null,
   "id": "d0f79bf0",
   "metadata": {},
   "outputs": [],
   "source": [
    "agrupacion_grp_total = total_data_mesas['agrupacion_ganadora'].value_counts().to_frame().reset_index()"
   ]
  },
  {
   "cell_type": "code",
   "execution_count": null,
   "id": "4533b71d",
   "metadata": {},
   "outputs": [],
   "source": [
    "agrupacion_grp_total.columns = ['agrupacion_ganadora', 'total']"
   ]
  },
  {
   "cell_type": "code",
   "execution_count": null,
   "id": "79a92846",
   "metadata": {},
   "outputs": [],
   "source": [
    "agrupaciones_ganadoras_invalidos = pd.merge(agrupacion_grp_sin, agrupacion_grp_total)"
   ]
  },
  {
   "cell_type": "code",
   "execution_count": null,
   "id": "081400a5",
   "metadata": {},
   "outputs": [],
   "source": [
    "agrupaciones_ganadoras_invalidos['percentage'] = agrupaciones_ganadoras_invalidos[\n",
    "    'sin_invalidos'] / agrupaciones_ganadoras_invalidos['total']"
   ]
  },
  {
   "cell_type": "code",
   "execution_count": null,
   "id": "134d9fb0",
   "metadata": {},
   "outputs": [],
   "source": [
    "agrupaciones_ganadoras_invalidos.sort_values('percentage', ascending=False)"
   ]
  },
  {
   "cell_type": "markdown",
   "id": "7810b306",
   "metadata": {},
   "source": [
    "#### Mesas ganadores con mas invalidos por agrupacion"
   ]
  },
  {
   "cell_type": "code",
   "execution_count": null,
   "id": "5c71bd9e",
   "metadata": {},
   "outputs": [],
   "source": [
    "dfs = []"
   ]
  },
  {
   "cell_type": "code",
   "execution_count": null,
   "id": "8418cd91",
   "metadata": {},
   "outputs": [],
   "source": [
    "for p, p_df in total_data_mesas.groupby('agrupacion_ganadora'):\n",
    "    temp_df = p_df['invalidos_percentage'].describe().to_frame()\n",
    "    temp_df.columns = [p]\n",
    "    dfs.append(temp_df.T)"
   ]
  },
  {
   "cell_type": "code",
   "execution_count": null,
   "id": "d2bb94cc",
   "metadata": {},
   "outputs": [],
   "source": [
    "inv_dist_df = pd.concat(dfs)"
   ]
  },
  {
   "cell_type": "code",
   "execution_count": null,
   "id": "efbcc31c",
   "metadata": {},
   "outputs": [],
   "source": [
    "inv_dist_df"
   ]
  },
  {
   "cell_type": "code",
   "execution_count": null,
   "id": "b05ac240",
   "metadata": {
    "scrolled": true
   },
   "outputs": [],
   "source": [
    "for v in ['mean', '25%', '50%', '75%', 'max']:\n",
    "    fig = plt.figure(figsize=(15, 8))\n",
    "    plt.title(v)\n",
    "    plot_df = inv_dist_df.sort_values(v)\n",
    "    x_values = plot_df.index\n",
    "    plt.bar(x_values, plot_df[v])"
   ]
  },
  {
   "cell_type": "markdown",
   "id": "40502923",
   "metadata": {},
   "source": [
    "## Mesas con 0 votos"
   ]
  },
  {
   "cell_type": "code",
   "execution_count": null,
   "id": "8d615a6c",
   "metadata": {},
   "outputs": [],
   "source": [
    "partido = 'LA LIBERTAD AVANZA'"
   ]
  },
  {
   "cell_type": "code",
   "execution_count": null,
   "id": "2f20a0cd",
   "metadata": {},
   "outputs": [],
   "source": [
    "zero_votos = votos_por_mesa[votos_por_mesa[partido] == 0]"
   ]
  },
  {
   "cell_type": "code",
   "execution_count": null,
   "id": "fac1026c",
   "metadata": {},
   "outputs": [],
   "source": [
    "zero_votos['total_invalidos'].value_counts()"
   ]
  },
  {
   "cell_type": "code",
   "execution_count": null,
   "id": "34c60920",
   "metadata": {},
   "outputs": [],
   "source": [
    "zero_votos[zero_votos['total_invalidos']==96]"
   ]
  },
  {
   "cell_type": "code",
   "execution_count": null,
   "id": "345018cd",
   "metadata": {},
   "outputs": [],
   "source": []
  }
 ],
 "metadata": {
  "kernelspec": {
   "display_name": "Python 3 (ipykernel)",
   "language": "python",
   "name": "python3"
  },
  "language_info": {
   "codemirror_mode": {
    "name": "ipython",
    "version": 3
   },
   "file_extension": ".py",
   "mimetype": "text/x-python",
   "name": "python",
   "nbconvert_exporter": "python",
   "pygments_lexer": "ipython3",
   "version": "3.9.15"
  }
 },
 "nbformat": 4,
 "nbformat_minor": 5
}

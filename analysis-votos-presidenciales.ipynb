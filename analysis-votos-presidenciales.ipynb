{
 "cells": [
  {
   "cell_type": "code",
   "execution_count": null,
   "id": "956c8417",
   "metadata": {},
   "outputs": [],
   "source": [
    "import pandas as pd\n",
    "import matplotlib.pyplot as plt"
   ]
  },
  {
   "cell_type": "markdown",
   "id": "bef3b393",
   "metadata": {},
   "source": [
    "## Armado del dataset"
   ]
  },
  {
   "cell_type": "markdown",
   "id": "16650853",
   "metadata": {},
   "source": [
    "#### Votos validos"
   ]
  },
  {
   "cell_type": "code",
   "execution_count": null,
   "id": "f08e7229",
   "metadata": {},
   "outputs": [],
   "source": [
    "df = pd.read_csv('presidente_afirmativos.csv')"
   ]
  },
  {
   "cell_type": "code",
   "execution_count": null,
   "id": "49ae92c5",
   "metadata": {},
   "outputs": [],
   "source": [
    "df.shape"
   ]
  },
  {
   "cell_type": "code",
   "execution_count": null,
   "id": "222d4345",
   "metadata": {},
   "outputs": [],
   "source": [
    "df.columns"
   ]
  },
  {
   "cell_type": "markdown",
   "id": "9e8b269a",
   "metadata": {},
   "source": [
    "#### Mesas"
   ]
  },
  {
   "cell_type": "code",
   "execution_count": null,
   "id": "c925054b",
   "metadata": {},
   "outputs": [],
   "source": [
    "mesas_df = df[['distrito_nombre', 'seccion_nombre', 'circuito_nombre', 'mesa_id', 'votos_cantidad']].groupby([\n",
    "    'distrito_nombre', 'seccion_nombre', 'circuito_nombre', 'mesa_id'\n",
    "]).sum().reset_index()"
   ]
  },
  {
   "cell_type": "code",
   "execution_count": null,
   "id": "8c049d6e",
   "metadata": {},
   "outputs": [],
   "source": [
    "mesas_df.rename(columns = {'votos_cantidad': 'votos_mesa_total'}, inplace=True)"
   ]
  },
  {
   "cell_type": "code",
   "execution_count": null,
   "id": "576352be",
   "metadata": {},
   "outputs": [],
   "source": [
    "mesas_df = mesas_df[mesas_df['votos_mesa_total'] > 0]"
   ]
  },
  {
   "cell_type": "code",
   "execution_count": null,
   "id": "b5ce3b8f",
   "metadata": {},
   "outputs": [],
   "source": [
    "df = pd.merge(df, mesas_df)"
   ]
  },
  {
   "cell_type": "code",
   "execution_count": null,
   "id": "784cc33f",
   "metadata": {},
   "outputs": [],
   "source": [
    "df['percentage'] = df['votos_cantidad'] / df['votos_mesa_total']"
   ]
  },
  {
   "cell_type": "markdown",
   "id": "3a62d03c",
   "metadata": {},
   "source": [
    "#### Ganadores por mesa"
   ]
  },
  {
   "cell_type": "code",
   "execution_count": null,
   "id": "52b38dc6",
   "metadata": {},
   "outputs": [],
   "source": [
    "ganadores_por_mesa = df.sort_values('votos_cantidad', ascending=False).groupby(\n",
    "    ['distrito_nombre', 'seccion_nombre', 'circuito_nombre', 'mesa_id'\n",
    "]).first().reset_index()"
   ]
  },
  {
   "cell_type": "markdown",
   "id": "457d4522",
   "metadata": {},
   "source": [
    "#### Votos invalidos"
   ]
  },
  {
   "cell_type": "code",
   "execution_count": null,
   "id": "fa1e2d3a",
   "metadata": {},
   "outputs": [],
   "source": [
    "invalidos = pd.read_csv('presidente_invalidos.csv')"
   ]
  },
  {
   "cell_type": "code",
   "execution_count": null,
   "id": "cbc7f359",
   "metadata": {},
   "outputs": [],
   "source": [
    "invalidos.shape"
   ]
  },
  {
   "cell_type": "code",
   "execution_count": null,
   "id": "07459e28",
   "metadata": {},
   "outputs": [],
   "source": [
    "invalidos['votos_tipo'].value_counts()"
   ]
  },
  {
   "cell_type": "code",
   "execution_count": null,
   "id": "aae6f4b7",
   "metadata": {},
   "outputs": [],
   "source": [
    "invalidos.head()"
   ]
  },
  {
   "cell_type": "code",
   "execution_count": null,
   "id": "277c496a",
   "metadata": {},
   "outputs": [],
   "source": [
    "mesas_invalidos = invalidos.pivot(columns=['votos_tipo'], \n",
    "                index=[ 'distrito_nombre',\n",
    "                        'seccion_nombre',\n",
    "                        'circuito_nombre',\n",
    "                        'mesa_id'],\n",
    "               values='votos_cantidad').reset_index()"
   ]
  },
  {
   "cell_type": "code",
   "execution_count": null,
   "id": "f4172eec",
   "metadata": {},
   "outputs": [],
   "source": [
    "mesas_invalidos.head()"
   ]
  },
  {
   "cell_type": "code",
   "execution_count": null,
   "id": "3df08653",
   "metadata": {},
   "outputs": [],
   "source": [
    "total_mesas = pd.merge(mesas_df, mesas_invalidos)"
   ]
  },
  {
   "cell_type": "code",
   "execution_count": null,
   "id": "73e736a3",
   "metadata": {},
   "outputs": [],
   "source": [
    "total_mesas['total_invalidos'] = total_mesas[\n",
    "    ['COMANDO', 'IMPUGNADO', 'NULO', 'RECURRIDO']].sum(axis=1)"
   ]
  },
  {
   "cell_type": "code",
   "execution_count": null,
   "id": "d2ae75e3",
   "metadata": {},
   "outputs": [],
   "source": [
    "total_mesas['total_no_afirmativos'] = total_mesas[\n",
    "    ['COMANDO', 'EN BLANCO', 'IMPUGNADO', 'NULO', 'RECURRIDO']].sum(axis=1)"
   ]
  },
  {
   "cell_type": "code",
   "execution_count": null,
   "id": "2dc1105e",
   "metadata": {},
   "outputs": [],
   "source": [
    "main_df = pd.merge(total_mesas, ganadores_por_mesa)"
   ]
  },
  {
   "cell_type": "code",
   "execution_count": null,
   "id": "fad1e6da",
   "metadata": {},
   "outputs": [],
   "source": [
    "main_df['invalidos_percentage'] = main_df['total_invalidos'] / main_df['votos_mesa_total']"
   ]
  },
  {
   "cell_type": "markdown",
   "id": "b2c1ddd9",
   "metadata": {},
   "source": [
    "#### Votos por agrupacion por mesa"
   ]
  },
  {
   "cell_type": "code",
   "execution_count": null,
   "id": "f2573160",
   "metadata": {},
   "outputs": [],
   "source": [
    "votos_por_mesa = df.pivot(columns=['agrupacion_nombre'], \n",
    "                index=[ 'distrito_nombre',\n",
    "                        'seccion_nombre',\n",
    "                        'circuito_nombre',\n",
    "                        'mesa_id'],\n",
    "               values='votos_cantidad').reset_index()"
   ]
  },
  {
   "cell_type": "code",
   "execution_count": null,
   "id": "793c06ed",
   "metadata": {},
   "outputs": [],
   "source": [
    "votos_por_mesa = pd.merge(votos_por_mesa, total_mesas)"
   ]
  },
  {
   "cell_type": "markdown",
   "id": "53ea08b6",
   "metadata": {},
   "source": [
    "## Distribucion de mesas por % sacado"
   ]
  },
  {
   "cell_type": "code",
   "execution_count": null,
   "id": "bebc1e23",
   "metadata": {
    "scrolled": true
   },
   "outputs": [],
   "source": [
    "for a, a_df in df.groupby('agrupacion_nombre'):\n",
    "    fig = plt.figure(figsize=(15, 8))\n",
    "    plt.title(a)\n",
    "    a_df['percentage'].hist(bins=100)"
   ]
  },
  {
   "cell_type": "markdown",
   "id": "e4d8f535",
   "metadata": {},
   "source": [
    "## Mesas con % de votos de un partido"
   ]
  },
  {
   "cell_type": "code",
   "execution_count": null,
   "id": "a59e226b",
   "metadata": {},
   "outputs": [],
   "source": [
    "set_percentage = 0.9"
   ]
  },
  {
   "cell_type": "code",
   "execution_count": null,
   "id": "b6961112",
   "metadata": {},
   "outputs": [],
   "source": [
    "mesas_percentage = ganadores_por_mesa[ganadores_por_mesa['percentage'] >= set_percentage]"
   ]
  },
  {
   "cell_type": "markdown",
   "id": "00c746e5",
   "metadata": {},
   "source": [
    "#### Cantidad de mesas por agrupacion"
   ]
  },
  {
   "cell_type": "code",
   "execution_count": null,
   "id": "0a19045f",
   "metadata": {},
   "outputs": [],
   "source": [
    "mesas_percentage['agrupacion_nombre'].value_counts()"
   ]
  },
  {
   "cell_type": "code",
   "execution_count": null,
   "id": "401ece7d",
   "metadata": {},
   "outputs": [],
   "source": [
    "mesas_percentage[mesas_percentage['agrupacion_nombre']=='UNION POR LA PATRIA'].sort_values(\n",
    "    'percentage', ascending=False)"
   ]
  },
  {
   "cell_type": "markdown",
   "id": "8f2d952d",
   "metadata": {},
   "source": [
    "#### Cantidad de mesas por agrupacion y distrito"
   ]
  },
  {
   "cell_type": "code",
   "execution_count": null,
   "id": "11b99184",
   "metadata": {},
   "outputs": [],
   "source": [
    "mesas_percentage[['agrupacion_nombre', 'distrito_nombre', 'votos_cantidad']].groupby(\n",
    "    ['agrupacion_nombre', 'distrito_nombre']).count().sort_values(\n",
    "    ['agrupacion_nombre', 'votos_cantidad'], ascending=False)"
   ]
  },
  {
   "cell_type": "markdown",
   "id": "77c8a935",
   "metadata": {},
   "source": [
    "#### Cantidad de votos por agrupacion"
   ]
  },
  {
   "cell_type": "code",
   "execution_count": null,
   "id": "77b9ecda",
   "metadata": {},
   "outputs": [],
   "source": [
    "mesas_percentage[['agrupacion_nombre', 'votos_cantidad']].groupby(\n",
    "    'agrupacion_nombre').sum().sort_values('votos_cantidad', ascending=False)"
   ]
  },
  {
   "cell_type": "markdown",
   "id": "58e17ef5",
   "metadata": {},
   "source": [
    "#### Cantidad de mesas por agrupacion y distrito"
   ]
  },
  {
   "cell_type": "code",
   "execution_count": null,
   "id": "23b78c02",
   "metadata": {},
   "outputs": [],
   "source": [
    "mesas_percentage[['agrupacion_nombre', 'distrito_nombre', 'votos_cantidad']].groupby(\n",
    "    ['agrupacion_nombre', 'distrito_nombre']).sum().sort_values(\n",
    "    ['agrupacion_nombre', 'votos_cantidad'], ascending=False)"
   ]
  },
  {
   "cell_type": "markdown",
   "id": "0d2d756d",
   "metadata": {},
   "source": [
    "## Porcentaje de victoria"
   ]
  },
  {
   "cell_type": "markdown",
   "id": "55674d2a",
   "metadata": {},
   "source": [
    "#### Total"
   ]
  },
  {
   "cell_type": "code",
   "execution_count": null,
   "id": "b561fa37",
   "metadata": {},
   "outputs": [],
   "source": [
    "percentage_dfs = []"
   ]
  },
  {
   "cell_type": "code",
   "execution_count": null,
   "id": "f3756e47",
   "metadata": {},
   "outputs": [],
   "source": [
    "for p, p_df in ganadores_por_mesa.groupby('agrupacion_nombre'):\n",
    "    temp_df = p_df['percentage'].describe().to_frame()\n",
    "    temp_df.columns = [p]\n",
    "    percentage_dfs.append(temp_df.T)"
   ]
  },
  {
   "cell_type": "code",
   "execution_count": null,
   "id": "2c026c3e",
   "metadata": {},
   "outputs": [],
   "source": [
    "pd.concat(percentage_dfs)"
   ]
  },
  {
   "cell_type": "markdown",
   "id": "5c328ab3",
   "metadata": {},
   "source": [
    "## Votos no validos"
   ]
  },
  {
   "cell_type": "markdown",
   "id": "9f4b5777",
   "metadata": {},
   "source": [
    "#### % de mesas sin invalidos por agrupacion ganadora"
   ]
  },
  {
   "cell_type": "code",
   "execution_count": null,
   "id": "c37d6b4a",
   "metadata": {},
   "outputs": [],
   "source": [
    "zero_invalidos = main_df[main_df['total_invalidos'] == 0].copy()"
   ]
  },
  {
   "cell_type": "code",
   "execution_count": null,
   "id": "2945e26e",
   "metadata": {},
   "outputs": [],
   "source": [
    "agrupacion_grp_sin = zero_invalidos['agrupacion_nombre'].value_counts().to_frame().reset_index()"
   ]
  },
  {
   "cell_type": "code",
   "execution_count": null,
   "id": "0ab494a0",
   "metadata": {},
   "outputs": [],
   "source": [
    "agrupacion_grp_sin.columns = ['agrupacion_nombre', 'sin_invalidos']"
   ]
  },
  {
   "cell_type": "code",
   "execution_count": null,
   "id": "d0f79bf0",
   "metadata": {},
   "outputs": [],
   "source": [
    "agrupacion_grp_total = main_df['agrupacion_nombre'].value_counts().to_frame().reset_index()"
   ]
  },
  {
   "cell_type": "code",
   "execution_count": null,
   "id": "4533b71d",
   "metadata": {},
   "outputs": [],
   "source": [
    "agrupacion_grp_total.columns = ['agrupacion_nombre', 'total']"
   ]
  },
  {
   "cell_type": "code",
   "execution_count": null,
   "id": "79a92846",
   "metadata": {},
   "outputs": [],
   "source": [
    "agrupaciones_ganadoras_invalidos = pd.merge(agrupacion_grp_sin, agrupacion_grp_total)"
   ]
  },
  {
   "cell_type": "code",
   "execution_count": null,
   "id": "081400a5",
   "metadata": {},
   "outputs": [],
   "source": [
    "agrupaciones_ganadoras_invalidos['percentage'] = agrupaciones_ganadoras_invalidos[\n",
    "    'sin_invalidos'] / agrupaciones_ganadoras_invalidos['total']"
   ]
  },
  {
   "cell_type": "code",
   "execution_count": null,
   "id": "134d9fb0",
   "metadata": {},
   "outputs": [],
   "source": [
    "agrupaciones_ganadoras_invalidos.sort_values('percentage', ascending=False)"
   ]
  },
  {
   "cell_type": "markdown",
   "id": "7810b306",
   "metadata": {},
   "source": [
    "#### Mesas ganadores con mas invalidos por agrupacion"
   ]
  },
  {
   "cell_type": "code",
   "execution_count": null,
   "id": "5c71bd9e",
   "metadata": {},
   "outputs": [],
   "source": [
    "dfs = []"
   ]
  },
  {
   "cell_type": "code",
   "execution_count": null,
   "id": "8418cd91",
   "metadata": {},
   "outputs": [],
   "source": [
    "for p, p_df in main_df.groupby('agrupacion_nombre'):\n",
    "    temp_df = p_df['invalidos_percentage'].describe().to_frame()\n",
    "    temp_df.columns = [p]\n",
    "    dfs.append(temp_df.T)"
   ]
  },
  {
   "cell_type": "code",
   "execution_count": null,
   "id": "d2bb94cc",
   "metadata": {},
   "outputs": [],
   "source": [
    "inv_dist_df = pd.concat(dfs)"
   ]
  },
  {
   "cell_type": "code",
   "execution_count": null,
   "id": "efbcc31c",
   "metadata": {},
   "outputs": [],
   "source": [
    "inv_dist_df"
   ]
  },
  {
   "cell_type": "code",
   "execution_count": null,
   "id": "b05ac240",
   "metadata": {
    "scrolled": true
   },
   "outputs": [],
   "source": [
    "for v in ['mean', '25%', '50%', '75%', 'max']:\n",
    "    fig = plt.figure(figsize=(15, 8))\n",
    "    plt.title(v)\n",
    "    plot_df = inv_dist_df.sort_values(v)\n",
    "    x_values = plot_df.index\n",
    "    plt.bar(x_values, plot_df[v])"
   ]
  },
  {
   "cell_type": "markdown",
   "id": "40502923",
   "metadata": {},
   "source": [
    "## Mesas con 0 votos"
   ]
  },
  {
   "cell_type": "code",
   "execution_count": null,
   "id": "8d615a6c",
   "metadata": {},
   "outputs": [],
   "source": [
    "partido = 'LA LIBERTAD AVANZA'"
   ]
  },
  {
   "cell_type": "code",
   "execution_count": null,
   "id": "2f20a0cd",
   "metadata": {},
   "outputs": [],
   "source": [
    "zero_votos = votos_por_mesa[votos_por_mesa[partido] == 0]"
   ]
  },
  {
   "cell_type": "code",
   "execution_count": null,
   "id": "fac1026c",
   "metadata": {},
   "outputs": [],
   "source": [
    "zero_votos['total_invalidos'].value_counts()"
   ]
  },
  {
   "cell_type": "code",
   "execution_count": null,
   "id": "34c60920",
   "metadata": {},
   "outputs": [],
   "source": [
    "zero_votos[zero_votos['total_invalidos']==96]"
   ]
  },
  {
   "cell_type": "code",
   "execution_count": null,
   "id": "345018cd",
   "metadata": {},
   "outputs": [],
   "source": []
  }
 ],
 "metadata": {
  "kernelspec": {
   "display_name": "Python 3 (ipykernel)",
   "language": "python",
   "name": "python3"
  },
  "language_info": {
   "codemirror_mode": {
    "name": "ipython",
    "version": 3
   },
   "file_extension": ".py",
   "mimetype": "text/x-python",
   "name": "python",
   "nbconvert_exporter": "python",
   "pygments_lexer": "ipython3",
   "version": "3.9.15"
  }
 },
 "nbformat": 4,
 "nbformat_minor": 5
}

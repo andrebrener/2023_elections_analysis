{
 "cells": [
  {
   "cell_type": "code",
   "execution_count": null,
   "id": "dc0d1da3",
   "metadata": {},
   "outputs": [],
   "source": [
    "import pandas as pd"
   ]
  },
  {
   "cell_type": "code",
   "execution_count": null,
   "id": "44e69e60",
   "metadata": {},
   "outputs": [],
   "source": [
    "total_df = pd.read_csv('resultados_otros_cargos.csv')"
   ]
  },
  {
   "cell_type": "code",
   "execution_count": null,
   "id": "8739beca",
   "metadata": {},
   "outputs": [],
   "source": [
    "total_df.head()"
   ]
  },
  {
   "cell_type": "code",
   "execution_count": null,
   "id": "f02c5c2a",
   "metadata": {},
   "outputs": [],
   "source": [
    "total_df['cargo_nombre'].value_counts()"
   ]
  },
  {
   "cell_type": "markdown",
   "id": "5fe4b589",
   "metadata": {},
   "source": [
    "### Votos del partido"
   ]
  },
  {
   "cell_type": "code",
   "execution_count": null,
   "id": "1f033ad1",
   "metadata": {},
   "outputs": [],
   "source": [
    "# partido = 'LA LIBERTAD AVANZA'"
   ]
  },
  {
   "cell_type": "code",
   "execution_count": null,
   "id": "403e22e8",
   "metadata": {},
   "outputs": [],
   "source": [
    "partido = 'UNION POR LA PATRIA'"
   ]
  },
  {
   "cell_type": "code",
   "execution_count": null,
   "id": "60550f7b",
   "metadata": {},
   "outputs": [],
   "source": [
    "partido_df = total_df[total_df['agrupacion_nombre'] == partido]"
   ]
  },
  {
   "cell_type": "code",
   "execution_count": null,
   "id": "e472c56e",
   "metadata": {},
   "outputs": [],
   "source": [
    "all_df = partido_df.pivot(columns=['cargo_nombre'], \n",
    "                index=[ 'distrito_nombre',\n",
    "                        'seccion_nombre',\n",
    "                        'circuito_nombre',\n",
    "                        'mesa_id'],\n",
    "               values='votos_cantidad').reset_index()"
   ]
  },
  {
   "cell_type": "code",
   "execution_count": null,
   "id": "1e863e87",
   "metadata": {},
   "outputs": [],
   "source": [
    "all_df.head()"
   ]
  },
  {
   "cell_type": "code",
   "execution_count": null,
   "id": "d3331236",
   "metadata": {},
   "outputs": [],
   "source": [
    "comparacion_cargo = 'PARLAMENTO MERCOSUR NACIONAL'"
   ]
  },
  {
   "cell_type": "code",
   "execution_count": null,
   "id": "1be9e721",
   "metadata": {},
   "outputs": [],
   "source": [
    "df = all_df[(all_df['PRESIDENTE Y VICE'].notnull()) * (all_df[comparacion_cargo] > 0)][[\n",
    "    'distrito_nombre', 'seccion_nombre', 'circuito_nombre', 'mesa_id',\n",
    "    'PRESIDENTE Y VICE', comparacion_cargo\n",
    "    ]].copy()"
   ]
  },
  {
   "cell_type": "code",
   "execution_count": null,
   "id": "2a18ac7d",
   "metadata": {},
   "outputs": [],
   "source": [
    "df.head()"
   ]
  },
  {
   "cell_type": "code",
   "execution_count": null,
   "id": "3275016e",
   "metadata": {},
   "outputs": [],
   "source": [
    "df['presidente_dif'] = (df['PARLAMENTO MERCOSUR NACIONAL'] - \n",
    "                                   df['PRESIDENTE Y VICE']) / df['PARLAMENTO MERCOSUR NACIONAL']"
   ]
  },
  {
   "cell_type": "code",
   "execution_count": null,
   "id": "9d59c780",
   "metadata": {},
   "outputs": [],
   "source": [
    "limite = 0.5"
   ]
  },
  {
   "cell_type": "code",
   "execution_count": null,
   "id": "7b74c685",
   "metadata": {},
   "outputs": [],
   "source": [
    "limite_df = df[df['presidente_dif'] >= limite]"
   ]
  },
  {
   "cell_type": "code",
   "execution_count": null,
   "id": "8ede46ed",
   "metadata": {},
   "outputs": [],
   "source": [
    "100 * limite_df.shape[0] / df.shape[0]"
   ]
  },
  {
   "cell_type": "code",
   "execution_count": null,
   "id": "70c93327",
   "metadata": {},
   "outputs": [],
   "source": [
    "limite_df.sort_values('presidente_dif', ascending=False)"
   ]
  },
  {
   "cell_type": "code",
   "execution_count": null,
   "id": "69566f67",
   "metadata": {},
   "outputs": [],
   "source": []
  }
 ],
 "metadata": {
  "kernelspec": {
   "display_name": "Python 3 (ipykernel)",
   "language": "python",
   "name": "python3"
  },
  "language_info": {
   "codemirror_mode": {
    "name": "ipython",
    "version": 3
   },
   "file_extension": ".py",
   "mimetype": "text/x-python",
   "name": "python",
   "nbconvert_exporter": "python",
   "pygments_lexer": "ipython3",
   "version": "3.9.15"
  }
 },
 "nbformat": 4,
 "nbformat_minor": 5
}
